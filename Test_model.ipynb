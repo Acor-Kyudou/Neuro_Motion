{
  "nbformat": 4,
  "nbformat_minor": 0,
  "metadata": {
    "colab": {
      "provenance": [],
      "authorship_tag": "ABX9TyMIFbhc04/05plNMlGLdfqb",
      "include_colab_link": true
    },
    "kernelspec": {
      "name": "python3",
      "display_name": "Python 3"
    },
    "language_info": {
      "name": "python"
    },
    "widgets": {
      "application/vnd.jupyter.widget-state+json": {
        "d612afad2c8640d7a2fd378331264515": {
          "model_module": "@jupyter-widgets/controls",
          "model_name": "HBoxModel",
          "model_module_version": "1.5.0",
          "state": {
            "_dom_classes": [],
            "_model_module": "@jupyter-widgets/controls",
            "_model_module_version": "1.5.0",
            "_model_name": "HBoxModel",
            "_view_count": null,
            "_view_module": "@jupyter-widgets/controls",
            "_view_module_version": "1.5.0",
            "_view_name": "HBoxView",
            "box_style": "",
            "children": [
              "IPY_MODEL_7c63022b598a4792bcbc2926d333efd7",
              "IPY_MODEL_c7df05deed2e48f3a3564be94ecc263b",
              "IPY_MODEL_804f2f4fac864fbfb736d9aa548e5b27"
            ],
            "layout": "IPY_MODEL_f07c7283aa784004a19ebb644e87dbf5"
          }
        },
        "7c63022b598a4792bcbc2926d333efd7": {
          "model_module": "@jupyter-widgets/controls",
          "model_name": "HTMLModel",
          "model_module_version": "1.5.0",
          "state": {
            "_dom_classes": [],
            "_model_module": "@jupyter-widgets/controls",
            "_model_module_version": "1.5.0",
            "_model_name": "HTMLModel",
            "_view_count": null,
            "_view_module": "@jupyter-widgets/controls",
            "_view_module_version": "1.5.0",
            "_view_name": "HTMLView",
            "description": "",
            "description_tooltip": null,
            "layout": "IPY_MODEL_02796430577a453f9276e6cec9179e31",
            "placeholder": "​",
            "style": "IPY_MODEL_1f380c75169e4a6abb9fbd630beee4b6",
            "value": "Testing DataLoader 0: 100%"
          }
        },
        "c7df05deed2e48f3a3564be94ecc263b": {
          "model_module": "@jupyter-widgets/controls",
          "model_name": "FloatProgressModel",
          "model_module_version": "1.5.0",
          "state": {
            "_dom_classes": [],
            "_model_module": "@jupyter-widgets/controls",
            "_model_module_version": "1.5.0",
            "_model_name": "FloatProgressModel",
            "_view_count": null,
            "_view_module": "@jupyter-widgets/controls",
            "_view_module_version": "1.5.0",
            "_view_name": "ProgressView",
            "bar_style": "success",
            "description": "",
            "description_tooltip": null,
            "layout": "IPY_MODEL_07164e9e24bf447aa38d08d1962e2db6",
            "max": 3366,
            "min": 0,
            "orientation": "horizontal",
            "style": "IPY_MODEL_3ba20b3fb65e45189c50f08171ab1d2c",
            "value": 3366
          }
        },
        "804f2f4fac864fbfb736d9aa548e5b27": {
          "model_module": "@jupyter-widgets/controls",
          "model_name": "HTMLModel",
          "model_module_version": "1.5.0",
          "state": {
            "_dom_classes": [],
            "_model_module": "@jupyter-widgets/controls",
            "_model_module_version": "1.5.0",
            "_model_name": "HTMLModel",
            "_view_count": null,
            "_view_module": "@jupyter-widgets/controls",
            "_view_module_version": "1.5.0",
            "_view_name": "HTMLView",
            "description": "",
            "description_tooltip": null,
            "layout": "IPY_MODEL_a3f75db9476049a08bdf69d534435770",
            "placeholder": "​",
            "style": "IPY_MODEL_5a43c424488a43aca4c126d698908436",
            "value": " 3366/3366 [02:15&lt;00:00, 24.85it/s]"
          }
        },
        "f07c7283aa784004a19ebb644e87dbf5": {
          "model_module": "@jupyter-widgets/base",
          "model_name": "LayoutModel",
          "model_module_version": "1.2.0",
          "state": {
            "_model_module": "@jupyter-widgets/base",
            "_model_module_version": "1.2.0",
            "_model_name": "LayoutModel",
            "_view_count": null,
            "_view_module": "@jupyter-widgets/base",
            "_view_module_version": "1.2.0",
            "_view_name": "LayoutView",
            "align_content": null,
            "align_items": null,
            "align_self": null,
            "border": null,
            "bottom": null,
            "display": "inline-flex",
            "flex": null,
            "flex_flow": "row wrap",
            "grid_area": null,
            "grid_auto_columns": null,
            "grid_auto_flow": null,
            "grid_auto_rows": null,
            "grid_column": null,
            "grid_gap": null,
            "grid_row": null,
            "grid_template_areas": null,
            "grid_template_columns": null,
            "grid_template_rows": null,
            "height": null,
            "justify_content": null,
            "justify_items": null,
            "left": null,
            "margin": null,
            "max_height": null,
            "max_width": null,
            "min_height": null,
            "min_width": null,
            "object_fit": null,
            "object_position": null,
            "order": null,
            "overflow": null,
            "overflow_x": null,
            "overflow_y": null,
            "padding": null,
            "right": null,
            "top": null,
            "visibility": null,
            "width": "100%"
          }
        },
        "02796430577a453f9276e6cec9179e31": {
          "model_module": "@jupyter-widgets/base",
          "model_name": "LayoutModel",
          "model_module_version": "1.2.0",
          "state": {
            "_model_module": "@jupyter-widgets/base",
            "_model_module_version": "1.2.0",
            "_model_name": "LayoutModel",
            "_view_count": null,
            "_view_module": "@jupyter-widgets/base",
            "_view_module_version": "1.2.0",
            "_view_name": "LayoutView",
            "align_content": null,
            "align_items": null,
            "align_self": null,
            "border": null,
            "bottom": null,
            "display": null,
            "flex": null,
            "flex_flow": null,
            "grid_area": null,
            "grid_auto_columns": null,
            "grid_auto_flow": null,
            "grid_auto_rows": null,
            "grid_column": null,
            "grid_gap": null,
            "grid_row": null,
            "grid_template_areas": null,
            "grid_template_columns": null,
            "grid_template_rows": null,
            "height": null,
            "justify_content": null,
            "justify_items": null,
            "left": null,
            "margin": null,
            "max_height": null,
            "max_width": null,
            "min_height": null,
            "min_width": null,
            "object_fit": null,
            "object_position": null,
            "order": null,
            "overflow": null,
            "overflow_x": null,
            "overflow_y": null,
            "padding": null,
            "right": null,
            "top": null,
            "visibility": null,
            "width": null
          }
        },
        "1f380c75169e4a6abb9fbd630beee4b6": {
          "model_module": "@jupyter-widgets/controls",
          "model_name": "DescriptionStyleModel",
          "model_module_version": "1.5.0",
          "state": {
            "_model_module": "@jupyter-widgets/controls",
            "_model_module_version": "1.5.0",
            "_model_name": "DescriptionStyleModel",
            "_view_count": null,
            "_view_module": "@jupyter-widgets/base",
            "_view_module_version": "1.2.0",
            "_view_name": "StyleView",
            "description_width": ""
          }
        },
        "07164e9e24bf447aa38d08d1962e2db6": {
          "model_module": "@jupyter-widgets/base",
          "model_name": "LayoutModel",
          "model_module_version": "1.2.0",
          "state": {
            "_model_module": "@jupyter-widgets/base",
            "_model_module_version": "1.2.0",
            "_model_name": "LayoutModel",
            "_view_count": null,
            "_view_module": "@jupyter-widgets/base",
            "_view_module_version": "1.2.0",
            "_view_name": "LayoutView",
            "align_content": null,
            "align_items": null,
            "align_self": null,
            "border": null,
            "bottom": null,
            "display": null,
            "flex": "2",
            "flex_flow": null,
            "grid_area": null,
            "grid_auto_columns": null,
            "grid_auto_flow": null,
            "grid_auto_rows": null,
            "grid_column": null,
            "grid_gap": null,
            "grid_row": null,
            "grid_template_areas": null,
            "grid_template_columns": null,
            "grid_template_rows": null,
            "height": null,
            "justify_content": null,
            "justify_items": null,
            "left": null,
            "margin": null,
            "max_height": null,
            "max_width": null,
            "min_height": null,
            "min_width": null,
            "object_fit": null,
            "object_position": null,
            "order": null,
            "overflow": null,
            "overflow_x": null,
            "overflow_y": null,
            "padding": null,
            "right": null,
            "top": null,
            "visibility": null,
            "width": null
          }
        },
        "3ba20b3fb65e45189c50f08171ab1d2c": {
          "model_module": "@jupyter-widgets/controls",
          "model_name": "ProgressStyleModel",
          "model_module_version": "1.5.0",
          "state": {
            "_model_module": "@jupyter-widgets/controls",
            "_model_module_version": "1.5.0",
            "_model_name": "ProgressStyleModel",
            "_view_count": null,
            "_view_module": "@jupyter-widgets/base",
            "_view_module_version": "1.2.0",
            "_view_name": "StyleView",
            "bar_color": null,
            "description_width": ""
          }
        },
        "a3f75db9476049a08bdf69d534435770": {
          "model_module": "@jupyter-widgets/base",
          "model_name": "LayoutModel",
          "model_module_version": "1.2.0",
          "state": {
            "_model_module": "@jupyter-widgets/base",
            "_model_module_version": "1.2.0",
            "_model_name": "LayoutModel",
            "_view_count": null,
            "_view_module": "@jupyter-widgets/base",
            "_view_module_version": "1.2.0",
            "_view_name": "LayoutView",
            "align_content": null,
            "align_items": null,
            "align_self": null,
            "border": null,
            "bottom": null,
            "display": null,
            "flex": null,
            "flex_flow": null,
            "grid_area": null,
            "grid_auto_columns": null,
            "grid_auto_flow": null,
            "grid_auto_rows": null,
            "grid_column": null,
            "grid_gap": null,
            "grid_row": null,
            "grid_template_areas": null,
            "grid_template_columns": null,
            "grid_template_rows": null,
            "height": null,
            "justify_content": null,
            "justify_items": null,
            "left": null,
            "margin": null,
            "max_height": null,
            "max_width": null,
            "min_height": null,
            "min_width": null,
            "object_fit": null,
            "object_position": null,
            "order": null,
            "overflow": null,
            "overflow_x": null,
            "overflow_y": null,
            "padding": null,
            "right": null,
            "top": null,
            "visibility": null,
            "width": null
          }
        },
        "5a43c424488a43aca4c126d698908436": {
          "model_module": "@jupyter-widgets/controls",
          "model_name": "DescriptionStyleModel",
          "model_module_version": "1.5.0",
          "state": {
            "_model_module": "@jupyter-widgets/controls",
            "_model_module_version": "1.5.0",
            "_model_name": "DescriptionStyleModel",
            "_view_count": null,
            "_view_module": "@jupyter-widgets/base",
            "_view_module_version": "1.2.0",
            "_view_name": "StyleView",
            "description_width": ""
          }
        }
      }
    }
  },
  "cells": [
    {
      "cell_type": "markdown",
      "metadata": {
        "id": "view-in-github",
        "colab_type": "text"
      },
      "source": [
        "<a href=\"https://colab.research.google.com/github/Acor-Kyudou/Neuro_Motion/blob/main/Test_model.ipynb\" target=\"_parent\"><img src=\"https://colab.research.google.com/assets/colab-badge.svg\" alt=\"Open In Colab\"/></a>"
      ]
    },
    {
      "cell_type": "code",
      "execution_count": null,
      "metadata": {
        "colab": {
          "base_uri": "https://localhost:8080/"
        },
        "id": "pm31zXgCu2p8",
        "outputId": "6db0b47e-1dc0-473b-e5d5-e8a1093900b6"
      },
      "outputs": [
        {
          "output_type": "stream",
          "name": "stdout",
          "text": [
            "Collecting mne\n",
            "  Downloading mne-1.9.0-py3-none-any.whl.metadata (20 kB)\n",
            "Requirement already satisfied: torch in /usr/local/lib/python3.11/dist-packages (2.6.0+cu124)\n",
            "Collecting pytorch-lightning\n",
            "  Downloading pytorch_lightning-2.5.1.post0-py3-none-any.whl.metadata (20 kB)\n",
            "Collecting torchmetrics\n",
            "  Downloading torchmetrics-1.7.2-py3-none-any.whl.metadata (21 kB)\n",
            "Collecting onnxruntime\n",
            "  Downloading onnxruntime-1.22.0-cp311-cp311-manylinux_2_27_x86_64.manylinux_2_28_x86_64.whl.metadata (4.5 kB)\n",
            "Requirement already satisfied: opencv-python in /usr/local/lib/python3.11/dist-packages (4.11.0.86)\n",
            "Requirement already satisfied: matplotlib in /usr/local/lib/python3.11/dist-packages (3.10.0)\n",
            "Requirement already satisfied: numpy in /usr/local/lib/python3.11/dist-packages (2.0.2)\n",
            "Requirement already satisfied: seaborn in /usr/local/lib/python3.11/dist-packages (0.13.2)\n",
            "Requirement already satisfied: scikit-learn in /usr/local/lib/python3.11/dist-packages (1.6.1)\n",
            "Requirement already satisfied: decorator in /usr/local/lib/python3.11/dist-packages (from mne) (4.4.2)\n",
            "Requirement already satisfied: jinja2 in /usr/local/lib/python3.11/dist-packages (from mne) (3.1.6)\n",
            "Requirement already satisfied: lazy-loader>=0.3 in /usr/local/lib/python3.11/dist-packages (from mne) (0.4)\n",
            "Requirement already satisfied: packaging in /usr/local/lib/python3.11/dist-packages (from mne) (24.2)\n",
            "Requirement already satisfied: pooch>=1.5 in /usr/local/lib/python3.11/dist-packages (from mne) (1.8.2)\n",
            "Requirement already satisfied: scipy>=1.9 in /usr/local/lib/python3.11/dist-packages (from mne) (1.15.3)\n",
            "Requirement already satisfied: tqdm in /usr/local/lib/python3.11/dist-packages (from mne) (4.67.1)\n",
            "Requirement already satisfied: filelock in /usr/local/lib/python3.11/dist-packages (from torch) (3.18.0)\n",
            "Requirement already satisfied: typing-extensions>=4.10.0 in /usr/local/lib/python3.11/dist-packages (from torch) (4.13.2)\n",
            "Requirement already satisfied: networkx in /usr/local/lib/python3.11/dist-packages (from torch) (3.4.2)\n",
            "Requirement already satisfied: fsspec in /usr/local/lib/python3.11/dist-packages (from torch) (2025.3.2)\n",
            "Collecting nvidia-cuda-nvrtc-cu12==12.4.127 (from torch)\n",
            "  Downloading nvidia_cuda_nvrtc_cu12-12.4.127-py3-none-manylinux2014_x86_64.whl.metadata (1.5 kB)\n",
            "Collecting nvidia-cuda-runtime-cu12==12.4.127 (from torch)\n",
            "  Downloading nvidia_cuda_runtime_cu12-12.4.127-py3-none-manylinux2014_x86_64.whl.metadata (1.5 kB)\n",
            "Collecting nvidia-cuda-cupti-cu12==12.4.127 (from torch)\n",
            "  Downloading nvidia_cuda_cupti_cu12-12.4.127-py3-none-manylinux2014_x86_64.whl.metadata (1.6 kB)\n",
            "Collecting nvidia-cudnn-cu12==9.1.0.70 (from torch)\n",
            "  Downloading nvidia_cudnn_cu12-9.1.0.70-py3-none-manylinux2014_x86_64.whl.metadata (1.6 kB)\n",
            "Collecting nvidia-cublas-cu12==12.4.5.8 (from torch)\n",
            "  Downloading nvidia_cublas_cu12-12.4.5.8-py3-none-manylinux2014_x86_64.whl.metadata (1.5 kB)\n",
            "Collecting nvidia-cufft-cu12==11.2.1.3 (from torch)\n",
            "  Downloading nvidia_cufft_cu12-11.2.1.3-py3-none-manylinux2014_x86_64.whl.metadata (1.5 kB)\n",
            "Collecting nvidia-curand-cu12==10.3.5.147 (from torch)\n",
            "  Downloading nvidia_curand_cu12-10.3.5.147-py3-none-manylinux2014_x86_64.whl.metadata (1.5 kB)\n",
            "Collecting nvidia-cusolver-cu12==11.6.1.9 (from torch)\n",
            "  Downloading nvidia_cusolver_cu12-11.6.1.9-py3-none-manylinux2014_x86_64.whl.metadata (1.6 kB)\n",
            "Collecting nvidia-cusparse-cu12==12.3.1.170 (from torch)\n",
            "  Downloading nvidia_cusparse_cu12-12.3.1.170-py3-none-manylinux2014_x86_64.whl.metadata (1.6 kB)\n",
            "Requirement already satisfied: nvidia-cusparselt-cu12==0.6.2 in /usr/local/lib/python3.11/dist-packages (from torch) (0.6.2)\n",
            "Requirement already satisfied: nvidia-nccl-cu12==2.21.5 in /usr/local/lib/python3.11/dist-packages (from torch) (2.21.5)\n",
            "Requirement already satisfied: nvidia-nvtx-cu12==12.4.127 in /usr/local/lib/python3.11/dist-packages (from torch) (12.4.127)\n",
            "Collecting nvidia-nvjitlink-cu12==12.4.127 (from torch)\n",
            "  Downloading nvidia_nvjitlink_cu12-12.4.127-py3-none-manylinux2014_x86_64.whl.metadata (1.5 kB)\n",
            "Requirement already satisfied: triton==3.2.0 in /usr/local/lib/python3.11/dist-packages (from torch) (3.2.0)\n",
            "Requirement already satisfied: sympy==1.13.1 in /usr/local/lib/python3.11/dist-packages (from torch) (1.13.1)\n",
            "Requirement already satisfied: mpmath<1.4,>=1.1.0 in /usr/local/lib/python3.11/dist-packages (from sympy==1.13.1->torch) (1.3.0)\n",
            "Requirement already satisfied: PyYAML>=5.4 in /usr/local/lib/python3.11/dist-packages (from pytorch-lightning) (6.0.2)\n",
            "Collecting lightning-utilities>=0.10.0 (from pytorch-lightning)\n",
            "  Downloading lightning_utilities-0.14.3-py3-none-any.whl.metadata (5.6 kB)\n",
            "Collecting coloredlogs (from onnxruntime)\n",
            "  Downloading coloredlogs-15.0.1-py2.py3-none-any.whl.metadata (12 kB)\n",
            "Requirement already satisfied: flatbuffers in /usr/local/lib/python3.11/dist-packages (from onnxruntime) (25.2.10)\n",
            "Requirement already satisfied: protobuf in /usr/local/lib/python3.11/dist-packages (from onnxruntime) (5.29.4)\n",
            "Requirement already satisfied: contourpy>=1.0.1 in /usr/local/lib/python3.11/dist-packages (from matplotlib) (1.3.2)\n",
            "Requirement already satisfied: cycler>=0.10 in /usr/local/lib/python3.11/dist-packages (from matplotlib) (0.12.1)\n",
            "Requirement already satisfied: fonttools>=4.22.0 in /usr/local/lib/python3.11/dist-packages (from matplotlib) (4.58.0)\n",
            "Requirement already satisfied: kiwisolver>=1.3.1 in /usr/local/lib/python3.11/dist-packages (from matplotlib) (1.4.8)\n",
            "Requirement already satisfied: pillow>=8 in /usr/local/lib/python3.11/dist-packages (from matplotlib) (11.2.1)\n",
            "Requirement already satisfied: pyparsing>=2.3.1 in /usr/local/lib/python3.11/dist-packages (from matplotlib) (3.2.3)\n",
            "Requirement already satisfied: python-dateutil>=2.7 in /usr/local/lib/python3.11/dist-packages (from matplotlib) (2.9.0.post0)\n",
            "Requirement already satisfied: pandas>=1.2 in /usr/local/lib/python3.11/dist-packages (from seaborn) (2.2.2)\n",
            "Requirement already satisfied: joblib>=1.2.0 in /usr/local/lib/python3.11/dist-packages (from scikit-learn) (1.5.0)\n",
            "Requirement already satisfied: threadpoolctl>=3.1.0 in /usr/local/lib/python3.11/dist-packages (from scikit-learn) (3.6.0)\n",
            "Requirement already satisfied: aiohttp!=4.0.0a0,!=4.0.0a1 in /usr/local/lib/python3.11/dist-packages (from fsspec[http]>=2022.5.0->pytorch-lightning) (3.11.15)\n",
            "Requirement already satisfied: setuptools in /usr/local/lib/python3.11/dist-packages (from lightning-utilities>=0.10.0->pytorch-lightning) (75.2.0)\n",
            "Requirement already satisfied: pytz>=2020.1 in /usr/local/lib/python3.11/dist-packages (from pandas>=1.2->seaborn) (2025.2)\n",
            "Requirement already satisfied: tzdata>=2022.7 in /usr/local/lib/python3.11/dist-packages (from pandas>=1.2->seaborn) (2025.2)\n",
            "Requirement already satisfied: platformdirs>=2.5.0 in /usr/local/lib/python3.11/dist-packages (from pooch>=1.5->mne) (4.3.8)\n",
            "Requirement already satisfied: requests>=2.19.0 in /usr/local/lib/python3.11/dist-packages (from pooch>=1.5->mne) (2.32.3)\n",
            "Requirement already satisfied: six>=1.5 in /usr/local/lib/python3.11/dist-packages (from python-dateutil>=2.7->matplotlib) (1.17.0)\n",
            "Collecting humanfriendly>=9.1 (from coloredlogs->onnxruntime)\n",
            "  Downloading humanfriendly-10.0-py2.py3-none-any.whl.metadata (9.2 kB)\n",
            "Requirement already satisfied: MarkupSafe>=2.0 in /usr/local/lib/python3.11/dist-packages (from jinja2->mne) (3.0.2)\n",
            "Requirement already satisfied: aiohappyeyeballs>=2.3.0 in /usr/local/lib/python3.11/dist-packages (from aiohttp!=4.0.0a0,!=4.0.0a1->fsspec[http]>=2022.5.0->pytorch-lightning) (2.6.1)\n",
            "Requirement already satisfied: aiosignal>=1.1.2 in /usr/local/lib/python3.11/dist-packages (from aiohttp!=4.0.0a0,!=4.0.0a1->fsspec[http]>=2022.5.0->pytorch-lightning) (1.3.2)\n",
            "Requirement already satisfied: attrs>=17.3.0 in /usr/local/lib/python3.11/dist-packages (from aiohttp!=4.0.0a0,!=4.0.0a1->fsspec[http]>=2022.5.0->pytorch-lightning) (25.3.0)\n",
            "Requirement already satisfied: frozenlist>=1.1.1 in /usr/local/lib/python3.11/dist-packages (from aiohttp!=4.0.0a0,!=4.0.0a1->fsspec[http]>=2022.5.0->pytorch-lightning) (1.6.0)\n",
            "Requirement already satisfied: multidict<7.0,>=4.5 in /usr/local/lib/python3.11/dist-packages (from aiohttp!=4.0.0a0,!=4.0.0a1->fsspec[http]>=2022.5.0->pytorch-lightning) (6.4.4)\n",
            "Requirement already satisfied: propcache>=0.2.0 in /usr/local/lib/python3.11/dist-packages (from aiohttp!=4.0.0a0,!=4.0.0a1->fsspec[http]>=2022.5.0->pytorch-lightning) (0.3.1)\n",
            "Requirement already satisfied: yarl<2.0,>=1.17.0 in /usr/local/lib/python3.11/dist-packages (from aiohttp!=4.0.0a0,!=4.0.0a1->fsspec[http]>=2022.5.0->pytorch-lightning) (1.20.0)\n",
            "Requirement already satisfied: charset-normalizer<4,>=2 in /usr/local/lib/python3.11/dist-packages (from requests>=2.19.0->pooch>=1.5->mne) (3.4.2)\n",
            "Requirement already satisfied: idna<4,>=2.5 in /usr/local/lib/python3.11/dist-packages (from requests>=2.19.0->pooch>=1.5->mne) (3.10)\n",
            "Requirement already satisfied: urllib3<3,>=1.21.1 in /usr/local/lib/python3.11/dist-packages (from requests>=2.19.0->pooch>=1.5->mne) (2.4.0)\n",
            "Requirement already satisfied: certifi>=2017.4.17 in /usr/local/lib/python3.11/dist-packages (from requests>=2.19.0->pooch>=1.5->mne) (2025.4.26)\n",
            "Downloading mne-1.9.0-py3-none-any.whl (7.4 MB)\n",
            "\u001b[2K   \u001b[90m━━━━━━━━━━━━━━━━━━━━━━━━━━━━━━━━━━━━━━━━\u001b[0m \u001b[32m7.4/7.4 MB\u001b[0m \u001b[31m26.1 MB/s\u001b[0m eta \u001b[36m0:00:00\u001b[0m\n",
            "\u001b[?25hDownloading nvidia_cublas_cu12-12.4.5.8-py3-none-manylinux2014_x86_64.whl (363.4 MB)\n",
            "\u001b[2K   \u001b[90m━━━━━━━━━━━━━━━━━━━━━━━━━━━━━━━━━━━━━━━━\u001b[0m \u001b[32m363.4/363.4 MB\u001b[0m \u001b[31m3.6 MB/s\u001b[0m eta \u001b[36m0:00:00\u001b[0m\n",
            "\u001b[?25hDownloading nvidia_cuda_cupti_cu12-12.4.127-py3-none-manylinux2014_x86_64.whl (13.8 MB)\n",
            "\u001b[2K   \u001b[90m━━━━━━━━━━━━━━━━━━━━━━━━━━━━━━━━━━━━━━━━\u001b[0m \u001b[32m13.8/13.8 MB\u001b[0m \u001b[31m42.0 MB/s\u001b[0m eta \u001b[36m0:00:00\u001b[0m\n",
            "\u001b[?25hDownloading nvidia_cuda_nvrtc_cu12-12.4.127-py3-none-manylinux2014_x86_64.whl (24.6 MB)\n",
            "\u001b[2K   \u001b[90m━━━━━━━━━━━━━━━━━━━━━━━━━━━━━━━━━━━━━━━━\u001b[0m \u001b[32m24.6/24.6 MB\u001b[0m \u001b[31m38.8 MB/s\u001b[0m eta \u001b[36m0:00:00\u001b[0m\n",
            "\u001b[?25hDownloading nvidia_cuda_runtime_cu12-12.4.127-py3-none-manylinux2014_x86_64.whl (883 kB)\n",
            "\u001b[2K   \u001b[90m━━━━━━━━━━━━━━━━━━━━━━━━━━━━━━━━━━━━━━━━\u001b[0m \u001b[32m883.7/883.7 kB\u001b[0m \u001b[31m47.8 MB/s\u001b[0m eta \u001b[36m0:00:00\u001b[0m\n",
            "\u001b[?25hDownloading nvidia_cudnn_cu12-9.1.0.70-py3-none-manylinux2014_x86_64.whl (664.8 MB)\n",
            "\u001b[2K   \u001b[90m━━━━━━━━━━━━━━━━━━━━━━━━━━━━━━━━━━━━━━━━\u001b[0m \u001b[32m664.8/664.8 MB\u001b[0m \u001b[31m2.4 MB/s\u001b[0m eta \u001b[36m0:00:00\u001b[0m\n",
            "\u001b[?25hDownloading nvidia_cufft_cu12-11.2.1.3-py3-none-manylinux2014_x86_64.whl (211.5 MB)\n",
            "\u001b[2K   \u001b[90m━━━━━━━━━━━━━━━━━━━━━━━━━━━━━━━━━━━━━━━━\u001b[0m \u001b[32m211.5/211.5 MB\u001b[0m \u001b[31m5.7 MB/s\u001b[0m eta \u001b[36m0:00:00\u001b[0m\n",
            "\u001b[?25hDownloading nvidia_curand_cu12-10.3.5.147-py3-none-manylinux2014_x86_64.whl (56.3 MB)\n",
            "\u001b[2K   \u001b[90m━━━━━━━━━━━━━━━━━━━━━━━━━━━━━━━━━━━━━━━━\u001b[0m \u001b[32m56.3/56.3 MB\u001b[0m \u001b[31m12.8 MB/s\u001b[0m eta \u001b[36m0:00:00\u001b[0m\n",
            "\u001b[?25hDownloading nvidia_cusolver_cu12-11.6.1.9-py3-none-manylinux2014_x86_64.whl (127.9 MB)\n",
            "\u001b[2K   \u001b[90m━━━━━━━━━━━━━━━━━━━━━━━━━━━━━━━━━━━━━━━━\u001b[0m \u001b[32m127.9/127.9 MB\u001b[0m \u001b[31m7.3 MB/s\u001b[0m eta \u001b[36m0:00:00\u001b[0m\n",
            "\u001b[?25hDownloading nvidia_cusparse_cu12-12.3.1.170-py3-none-manylinux2014_x86_64.whl (207.5 MB)\n",
            "\u001b[2K   \u001b[90m━━━━━━━━━━━━━━━━━━━━━━━━━━━━━━━━━━━━━━━━\u001b[0m \u001b[32m207.5/207.5 MB\u001b[0m \u001b[31m6.3 MB/s\u001b[0m eta \u001b[36m0:00:00\u001b[0m\n",
            "\u001b[?25hDownloading nvidia_nvjitlink_cu12-12.4.127-py3-none-manylinux2014_x86_64.whl (21.1 MB)\n",
            "\u001b[2K   \u001b[90m━━━━━━━━━━━━━━━━━━━━━━━━━━━━━━━━━━━━━━━━\u001b[0m \u001b[32m21.1/21.1 MB\u001b[0m \u001b[31m50.8 MB/s\u001b[0m eta \u001b[36m0:00:00\u001b[0m\n",
            "\u001b[?25hDownloading pytorch_lightning-2.5.1.post0-py3-none-any.whl (823 kB)\n",
            "\u001b[2K   \u001b[90m━━━━━━━━━━━━━━━━━━━━━━━━━━━━━━━━━━━━━━━━\u001b[0m \u001b[32m823.1/823.1 kB\u001b[0m \u001b[31m28.5 MB/s\u001b[0m eta \u001b[36m0:00:00\u001b[0m\n",
            "\u001b[?25hDownloading torchmetrics-1.7.2-py3-none-any.whl (962 kB)\n",
            "\u001b[2K   \u001b[90m━━━━━━━━━━━━━━━━━━━━━━━━━━━━━━━━━━━━━━━━\u001b[0m \u001b[32m962.5/962.5 kB\u001b[0m \u001b[31m49.3 MB/s\u001b[0m eta \u001b[36m0:00:00\u001b[0m\n",
            "\u001b[?25hDownloading onnxruntime-1.22.0-cp311-cp311-manylinux_2_27_x86_64.manylinux_2_28_x86_64.whl (16.4 MB)\n",
            "\u001b[2K   \u001b[90m━━━━━━━━━━━━━━━━━━━━━━━━━━━━━━━━━━━━━━━━\u001b[0m \u001b[32m16.4/16.4 MB\u001b[0m \u001b[31m42.1 MB/s\u001b[0m eta \u001b[36m0:00:00\u001b[0m\n",
            "\u001b[?25hDownloading lightning_utilities-0.14.3-py3-none-any.whl (28 kB)\n",
            "Downloading coloredlogs-15.0.1-py2.py3-none-any.whl (46 kB)\n",
            "\u001b[2K   \u001b[90m━━━━━━━━━━━━━━━━━━━━━━━━━━━━━━━━━━━━━━━━\u001b[0m \u001b[32m46.0/46.0 kB\u001b[0m \u001b[31m2.1 MB/s\u001b[0m eta \u001b[36m0:00:00\u001b[0m\n",
            "\u001b[?25hDownloading humanfriendly-10.0-py2.py3-none-any.whl (86 kB)\n",
            "\u001b[2K   \u001b[90m━━━━━━━━━━━━━━━━━━━━━━━━━━━━━━━━━━━━━━━━\u001b[0m \u001b[32m86.8/86.8 kB\u001b[0m \u001b[31m1.1 MB/s\u001b[0m eta \u001b[36m0:00:00\u001b[0m\n",
            "\u001b[?25hInstalling collected packages: nvidia-nvjitlink-cu12, nvidia-curand-cu12, nvidia-cufft-cu12, nvidia-cuda-runtime-cu12, nvidia-cuda-nvrtc-cu12, nvidia-cuda-cupti-cu12, nvidia-cublas-cu12, lightning-utilities, humanfriendly, nvidia-cusparse-cu12, nvidia-cudnn-cu12, coloredlogs, onnxruntime, nvidia-cusolver-cu12, mne, torchmetrics, pytorch-lightning\n",
            "  Attempting uninstall: nvidia-nvjitlink-cu12\n",
            "    Found existing installation: nvidia-nvjitlink-cu12 12.5.82\n",
            "    Uninstalling nvidia-nvjitlink-cu12-12.5.82:\n",
            "      Successfully uninstalled nvidia-nvjitlink-cu12-12.5.82\n",
            "  Attempting uninstall: nvidia-curand-cu12\n",
            "    Found existing installation: nvidia-curand-cu12 10.3.6.82\n",
            "    Uninstalling nvidia-curand-cu12-10.3.6.82:\n",
            "      Successfully uninstalled nvidia-curand-cu12-10.3.6.82\n",
            "  Attempting uninstall: nvidia-cufft-cu12\n",
            "    Found existing installation: nvidia-cufft-cu12 11.2.3.61\n",
            "    Uninstalling nvidia-cufft-cu12-11.2.3.61:\n",
            "      Successfully uninstalled nvidia-cufft-cu12-11.2.3.61\n",
            "  Attempting uninstall: nvidia-cuda-runtime-cu12\n",
            "    Found existing installation: nvidia-cuda-runtime-cu12 12.5.82\n",
            "    Uninstalling nvidia-cuda-runtime-cu12-12.5.82:\n",
            "      Successfully uninstalled nvidia-cuda-runtime-cu12-12.5.82\n",
            "  Attempting uninstall: nvidia-cuda-nvrtc-cu12\n",
            "    Found existing installation: nvidia-cuda-nvrtc-cu12 12.5.82\n",
            "    Uninstalling nvidia-cuda-nvrtc-cu12-12.5.82:\n",
            "      Successfully uninstalled nvidia-cuda-nvrtc-cu12-12.5.82\n",
            "  Attempting uninstall: nvidia-cuda-cupti-cu12\n",
            "    Found existing installation: nvidia-cuda-cupti-cu12 12.5.82\n",
            "    Uninstalling nvidia-cuda-cupti-cu12-12.5.82:\n",
            "      Successfully uninstalled nvidia-cuda-cupti-cu12-12.5.82\n",
            "  Attempting uninstall: nvidia-cublas-cu12\n",
            "    Found existing installation: nvidia-cublas-cu12 12.5.3.2\n",
            "    Uninstalling nvidia-cublas-cu12-12.5.3.2:\n",
            "      Successfully uninstalled nvidia-cublas-cu12-12.5.3.2\n",
            "  Attempting uninstall: nvidia-cusparse-cu12\n",
            "    Found existing installation: nvidia-cusparse-cu12 12.5.1.3\n",
            "    Uninstalling nvidia-cusparse-cu12-12.5.1.3:\n",
            "      Successfully uninstalled nvidia-cusparse-cu12-12.5.1.3\n",
            "  Attempting uninstall: nvidia-cudnn-cu12\n",
            "    Found existing installation: nvidia-cudnn-cu12 9.3.0.75\n",
            "    Uninstalling nvidia-cudnn-cu12-9.3.0.75:\n",
            "      Successfully uninstalled nvidia-cudnn-cu12-9.3.0.75\n",
            "  Attempting uninstall: nvidia-cusolver-cu12\n",
            "    Found existing installation: nvidia-cusolver-cu12 11.6.3.83\n",
            "    Uninstalling nvidia-cusolver-cu12-11.6.3.83:\n",
            "      Successfully uninstalled nvidia-cusolver-cu12-11.6.3.83\n",
            "Successfully installed coloredlogs-15.0.1 humanfriendly-10.0 lightning-utilities-0.14.3 mne-1.9.0 nvidia-cublas-cu12-12.4.5.8 nvidia-cuda-cupti-cu12-12.4.127 nvidia-cuda-nvrtc-cu12-12.4.127 nvidia-cuda-runtime-cu12-12.4.127 nvidia-cudnn-cu12-9.1.0.70 nvidia-cufft-cu12-11.2.1.3 nvidia-curand-cu12-10.3.5.147 nvidia-cusolver-cu12-11.6.1.9 nvidia-cusparse-cu12-12.3.1.170 nvidia-nvjitlink-cu12-12.4.127 onnxruntime-1.22.0 pytorch-lightning-2.5.1.post0 torchmetrics-1.7.2\n"
          ]
        }
      ],
      "source": [
        "!pip install mne torch pytorch-lightning torchmetrics onnxruntime opencv-python matplotlib numpy seaborn scikit-learn"
      ]
    },
    {
      "cell_type": "code",
      "source": [
        "import mne\n",
        "import os\n",
        "import numpy as np\n",
        "from scipy import signal\n",
        "import torch\n",
        "import torch.nn as nn\n",
        "import torch.nn.functional as F\n",
        "import torch.utils.data as data\n",
        "import pytorch_lightning as pl\n",
        "import onnxruntime as ort\n",
        "import matplotlib.pyplot as plt\n",
        "from torchmetrics.classification import Accuracy, Precision, Recall, F1Score\n",
        "from sklearn.metrics import confusion_matrix, roc_curve, auc\n",
        "import seaborn as sns\n",
        "import pandas as pd\n",
        "from google.colab import drive\n",
        "\n",
        "drive.mount('/content/drive')\n",
        "%matplotlib inline\n",
        "plt.rcParams['axes.facecolor'] = 'lightgray'"
      ],
      "metadata": {
        "colab": {
          "base_uri": "https://localhost:8080/"
        },
        "id": "SuJSWUF3vLBT",
        "outputId": "77be49bd-41a6-4e68-add9-0dcacb929225"
      },
      "execution_count": null,
      "outputs": [
        {
          "output_type": "stream",
          "name": "stdout",
          "text": [
            "Mounted at /content/drive\n"
          ]
        }
      ]
    },
    {
      "cell_type": "code",
      "source": [
        "DATASET_PATH = \"/content/drive/MyDrive/dataset/raw_data/files\"\n",
        "MODEL_DIR = \"/content/drive/MyDrive/dataset/EEGMotorImagery-master\"\n",
        "OPEN_CLOSE_LEFT_RIGHT_FIST = [3, 7, 11]\n",
        "CLASSES = [\"left\", \"right\"]\n",
        "\n",
        "# Check dataset path\n",
        "if not os.path.exists(DATASET_PATH):\n",
        "    raise ValueError(f\"Dataset path does not exist: {DATASET_PATH}\")\n",
        "print(f\"Dataset path exists: {DATASET_PATH}\")"
      ],
      "metadata": {
        "colab": {
          "base_uri": "https://localhost:8080/"
        },
        "id": "d9C5Bh7evZoY",
        "outputId": "0799f33e-d74b-4861-d91f-098eae995418"
      },
      "execution_count": null,
      "outputs": [
        {
          "output_type": "stream",
          "name": "stdout",
          "text": [
            "Dataset path exists: /content/drive/MyDrive/dataset/raw_data/files\n"
          ]
        }
      ]
    },
    {
      "cell_type": "code",
      "source": [
        "class PositionalEncoding(nn.Module):\n",
        "    def __init__(self, num_hiddens, dropout, max_len=1000):\n",
        "        super().__init__()\n",
        "        self.dropout = nn.Dropout(dropout)\n",
        "        self.p = torch.zeros((1, max_len, num_hiddens))\n",
        "        x = torch.arange(max_len, dtype=torch.float32).reshape(\n",
        "            -1, 1) / torch.pow(10000, torch.arange(\n",
        "            0, num_hiddens, 2, dtype=torch.float32) / num_hiddens)\n",
        "        self.p[:, :, 0::2] = torch.sin(x)\n",
        "        self.p[:, :, 1::2] = torch.cos(x)\n",
        "\n",
        "    def forward(self, x):\n",
        "        x = x + self.p[:, :x.shape[1], :].to(x.device)\n",
        "        return self.dropout(x)"
      ],
      "metadata": {
        "id": "S69I4k3mwB8C"
      },
      "execution_count": null,
      "outputs": []
    },
    {
      "cell_type": "code",
      "source": [
        "class TransformerBlock(nn.Module):\n",
        "    def __init__(self, embed_dim, num_heads, dim_feedforward, dropout=0.1):\n",
        "        super().__init__()\n",
        "        self.attention = nn.MultiheadAttention(embed_dim, num_heads, dropout, batch_first=True)\n",
        "        self.mlp = nn.Sequential(\n",
        "            nn.Linear(embed_dim, dim_feedforward),\n",
        "            nn.ReLU(True),\n",
        "            nn.Dropout(dropout),\n",
        "            nn.Linear(dim_feedforward, embed_dim),\n",
        "        )\n",
        "        self.layernorm0 = nn.LayerNorm(embed_dim)\n",
        "        self.layernorm1 = nn.LayerNorm(embed_dim)\n",
        "        self.dropout = dropout\n",
        "\n",
        "    def forward(self, x):\n",
        "        y, att = self.attention(x, x, x)\n",
        "        y = nn.functional.dropout(y, self.dropout, training=self.training)\n",
        "        x = self.layernorm0(x + y)\n",
        "        y = self.mlp(x)\n",
        "        y = nn.functional.dropout(y, self.dropout, training=self.training)\n",
        "        x = self.layernorm1(x + y)\n",
        "        return x"
      ],
      "metadata": {
        "id": "b_t6VIfHwD7h"
      },
      "execution_count": null,
      "outputs": []
    },
    {
      "cell_type": "code",
      "source": [
        "class EEGClassificationModel(nn.Module):\n",
        "    def __init__(self, eeg_channel, dropout=0.1):\n",
        "        super().__init__()\n",
        "        self.conv = nn.Sequential(\n",
        "            nn.Conv1d(eeg_channel, eeg_channel, 11, 1, padding=5, bias=False),\n",
        "            nn.BatchNorm1d(eeg_channel),\n",
        "            nn.ReLU(True),\n",
        "            nn.Dropout1d(dropout),\n",
        "            nn.Conv1d(eeg_channel, eeg_channel * 2, 11, 1, padding=5, bias=False),\n",
        "            nn.BatchNorm1d(eeg_channel * 2),\n",
        "        )\n",
        "        self.transformer = nn.Sequential(\n",
        "            PositionalEncoding(eeg_channel * 2, dropout),\n",
        "            TransformerBlock(eeg_channel * 2, 4, eeg_channel // 8, dropout),\n",
        "            TransformerBlock(eeg_channel * 2, 4, eeg_channel // 8, dropout),\n",
        "        )\n",
        "        self.mlp = nn.Sequential(\n",
        "            nn.Linear(eeg_channel * 2, eeg_channel // 2),\n",
        "            nn.ReLU(True),\n",
        "            nn.Dropout(dropout),\n",
        "            nn.Linear(eeg_channel // 2, 1),\n",
        "        )\n",
        "\n",
        "    def forward(self, x):\n",
        "        x = self.conv(x)\n",
        "        x = x.permute(0, 2, 1)\n",
        "        x = self.transformer(x)\n",
        "        x = x.permute(0, 2, 1)\n",
        "        x = x.mean(dim=-1)\n",
        "        x = self.mlp(x)\n",
        "        return x"
      ],
      "metadata": {
        "id": "srprAhWQwMAy"
      },
      "execution_count": null,
      "outputs": []
    },
    {
      "cell_type": "code",
      "source": [
        "print(\"Loading test EDF files...\")\n",
        "def get_edf_paths(subject_ids, run_numbers):\n",
        "    physionet_paths = []\n",
        "    for subject_id in subject_ids:\n",
        "        subject_folder = f\"S{subject_id:03d}\"\n",
        "        subject_path = os.path.join(DATASET_PATH, subject_folder)\n",
        "        if not os.path.exists(subject_path):\n",
        "            print(f\"Subject path does not exist: {subject_path}\")\n",
        "            continue\n",
        "        for run in run_numbers:\n",
        "            run_file = f\"{subject_folder}R{run:02d}.edf\"\n",
        "            file_path = os.path.join(subject_path, run_file)\n",
        "            if os.path.exists(file_path):\n",
        "                physionet_paths.append(file_path)\n",
        "            else:\n",
        "                print(f\"File does not exist: {file_path}\")\n",
        "    return physionet_paths\n",
        "\n",
        "test_paths = get_edf_paths(range(1, 80), OPEN_CLOSE_LEFT_RIGHT_FIST)\n",
        "print(f\"Found {len(test_paths)} EDF files\")\n",
        "\n",
        "if len(test_paths) == 0:\n",
        "    raise ValueError(\"No EDF files found.\")\n",
        "\n",
        "parts = []\n",
        "for path in test_paths:\n",
        "    try:\n",
        "        raw = mne.io.read_raw_edf(path, preload=True, stim_channel='auto', verbose='WARNING')\n",
        "        sfreq = raw.info['sfreq']\n",
        "        print(f\"Sampling rate for {path}: {sfreq} Hz\")\n",
        "        if sfreq != 160:\n",
        "            print(f\"Resampling {path} from {sfreq} Hz to 160 Hz\")\n",
        "            raw.resample(160)\n",
        "        parts.append(raw)\n",
        "    except Exception as e:\n",
        "        print(f\"Error loading {path}: {str(e)}\")\n",
        "\n",
        "if len(parts) == 0:\n",
        "    raise ValueError(\"No EDF files were successfully loaded.\")\n",
        "\n",
        "raw = mne.concatenate_raws(parts)\n",
        "events, annot = mne.events_from_annotations(raw)\n",
        "print(f\"Annotations found: {list(annot.keys())}\")\n",
        "eeg_channel_inds = mne.pick_types(raw.info, meg=False, eeg=True, stim=False, eog=False, exclude='bads')\n",
        "EEG_CHANNEL = len(eeg_channel_inds)\n",
        "print(f\"Number of EEG channels: {EEG_CHANNEL}\")\n",
        "\n",
        "# Create epochs\n",
        "epoched = mne.Epochs(\n",
        "    raw, events, dict(left=2, right=3), tmin=1, tmax=4.1,\n",
        "    proj=False, picks=eeg_channel_inds, baseline=None, preload=True, verbose=True\n",
        ")\n",
        "X_test = epoched.get_data() * 1e3  # Convert to mV\n",
        "y_test = epoched.events[:, 2] - 2  # Labels: 0=left, 1=right\n",
        "\n",
        "# Resample to match training shape\n",
        "expected_time_samples = int(4.1 * 160)  # 656 samples\n",
        "current_time_samples = X_test.shape[-1]\n",
        "print(f\"Original test X shape: {X_test.shape}, Test y shape: {y_test.shape}\")\n",
        "if current_time_samples != expected_time_samples:\n",
        "    print(f\"Resampling epochs from {current_time_samples} to {expected_time_samples} samples\")\n",
        "    X_test_resampled = np.zeros((X_test.shape[0], X_test.shape[1], expected_time_samples), dtype=np.float32)\n",
        "    for i in range(X_test.shape[0]):\n",
        "        for j in range(X_test.shape[1]):\n",
        "            X_test_resampled[i, j] = signal.resample(X_test[i, j], expected_time_samples)\n",
        "    X_test = X_test_resampled\n",
        "    print(f\"Resampled test X shape: {X_test.shape}\")\n",
        "\n",
        "X_test = X_test.astype(np.float32)\n",
        "y_test = y_test.astype(np.int64)\n",
        "print(f\"Final test X shape: {X_test.shape}, Test y shape: {y_test.shape}\")\n",
        "\n",
        "# Class distribution\n",
        "left_count = np.sum(y_test == 0)\n",
        "right_count = np.sum(y_test == 1)\n",
        "print(f\"Class distribution: Left={left_count}, Right={right_count}\")"
      ],
      "metadata": {
        "colab": {
          "base_uri": "https://localhost:8080/"
        },
        "id": "NrdoJ_zMzujq",
        "outputId": "3826d0b2-5c2c-4212-f1ea-76f75cca9af7"
      },
      "execution_count": null,
      "outputs": [
        {
          "output_type": "stream",
          "name": "stdout",
          "text": [
            "Loading test EDF files...\n",
            "Found 237 EDF files\n",
            "Sampling rate for /content/drive/MyDrive/dataset/raw_data/files/S001/S001R03.edf: 160.0 Hz\n",
            "Sampling rate for /content/drive/MyDrive/dataset/raw_data/files/S001/S001R07.edf: 160.0 Hz\n",
            "Sampling rate for /content/drive/MyDrive/dataset/raw_data/files/S001/S001R11.edf: 160.0 Hz\n",
            "Sampling rate for /content/drive/MyDrive/dataset/raw_data/files/S002/S002R03.edf: 160.0 Hz\n",
            "Sampling rate for /content/drive/MyDrive/dataset/raw_data/files/S002/S002R07.edf: 160.0 Hz\n",
            "Sampling rate for /content/drive/MyDrive/dataset/raw_data/files/S002/S002R11.edf: 160.0 Hz\n",
            "Sampling rate for /content/drive/MyDrive/dataset/raw_data/files/S003/S003R03.edf: 160.0 Hz\n",
            "Sampling rate for /content/drive/MyDrive/dataset/raw_data/files/S003/S003R07.edf: 160.0 Hz\n",
            "Sampling rate for /content/drive/MyDrive/dataset/raw_data/files/S003/S003R11.edf: 160.0 Hz\n",
            "Sampling rate for /content/drive/MyDrive/dataset/raw_data/files/S004/S004R03.edf: 160.0 Hz\n",
            "Sampling rate for /content/drive/MyDrive/dataset/raw_data/files/S004/S004R07.edf: 160.0 Hz\n",
            "Sampling rate for /content/drive/MyDrive/dataset/raw_data/files/S004/S004R11.edf: 160.0 Hz\n",
            "Sampling rate for /content/drive/MyDrive/dataset/raw_data/files/S005/S005R03.edf: 160.0 Hz\n",
            "Sampling rate for /content/drive/MyDrive/dataset/raw_data/files/S005/S005R07.edf: 160.0 Hz\n",
            "Sampling rate for /content/drive/MyDrive/dataset/raw_data/files/S005/S005R11.edf: 160.0 Hz\n",
            "Sampling rate for /content/drive/MyDrive/dataset/raw_data/files/S006/S006R03.edf: 160.0 Hz\n",
            "Sampling rate for /content/drive/MyDrive/dataset/raw_data/files/S006/S006R07.edf: 160.0 Hz\n",
            "Sampling rate for /content/drive/MyDrive/dataset/raw_data/files/S006/S006R11.edf: 160.0 Hz\n",
            "Sampling rate for /content/drive/MyDrive/dataset/raw_data/files/S007/S007R03.edf: 160.0 Hz\n",
            "Sampling rate for /content/drive/MyDrive/dataset/raw_data/files/S007/S007R07.edf: 160.0 Hz\n",
            "Sampling rate for /content/drive/MyDrive/dataset/raw_data/files/S007/S007R11.edf: 160.0 Hz\n",
            "Sampling rate for /content/drive/MyDrive/dataset/raw_data/files/S008/S008R03.edf: 160.0 Hz\n",
            "Sampling rate for /content/drive/MyDrive/dataset/raw_data/files/S008/S008R07.edf: 160.0 Hz\n",
            "Sampling rate for /content/drive/MyDrive/dataset/raw_data/files/S008/S008R11.edf: 160.0 Hz\n",
            "Sampling rate for /content/drive/MyDrive/dataset/raw_data/files/S009/S009R03.edf: 160.0 Hz\n",
            "Sampling rate for /content/drive/MyDrive/dataset/raw_data/files/S009/S009R07.edf: 160.0 Hz\n",
            "Sampling rate for /content/drive/MyDrive/dataset/raw_data/files/S009/S009R11.edf: 160.0 Hz\n",
            "Sampling rate for /content/drive/MyDrive/dataset/raw_data/files/S010/S010R03.edf: 160.0 Hz\n",
            "Sampling rate for /content/drive/MyDrive/dataset/raw_data/files/S010/S010R07.edf: 160.0 Hz\n",
            "Sampling rate for /content/drive/MyDrive/dataset/raw_data/files/S010/S010R11.edf: 160.0 Hz\n",
            "Sampling rate for /content/drive/MyDrive/dataset/raw_data/files/S011/S011R03.edf: 160.0 Hz\n",
            "Sampling rate for /content/drive/MyDrive/dataset/raw_data/files/S011/S011R07.edf: 160.0 Hz\n",
            "Sampling rate for /content/drive/MyDrive/dataset/raw_data/files/S011/S011R11.edf: 160.0 Hz\n",
            "Sampling rate for /content/drive/MyDrive/dataset/raw_data/files/S012/S012R03.edf: 160.0 Hz\n",
            "Sampling rate for /content/drive/MyDrive/dataset/raw_data/files/S012/S012R07.edf: 160.0 Hz\n",
            "Sampling rate for /content/drive/MyDrive/dataset/raw_data/files/S012/S012R11.edf: 160.0 Hz\n",
            "Sampling rate for /content/drive/MyDrive/dataset/raw_data/files/S013/S013R03.edf: 160.0 Hz\n",
            "Sampling rate for /content/drive/MyDrive/dataset/raw_data/files/S013/S013R07.edf: 160.0 Hz\n",
            "Sampling rate for /content/drive/MyDrive/dataset/raw_data/files/S013/S013R11.edf: 160.0 Hz\n",
            "Sampling rate for /content/drive/MyDrive/dataset/raw_data/files/S014/S014R03.edf: 160.0 Hz\n",
            "Sampling rate for /content/drive/MyDrive/dataset/raw_data/files/S014/S014R07.edf: 160.0 Hz\n",
            "Sampling rate for /content/drive/MyDrive/dataset/raw_data/files/S014/S014R11.edf: 160.0 Hz\n",
            "Sampling rate for /content/drive/MyDrive/dataset/raw_data/files/S015/S015R03.edf: 160.0 Hz\n",
            "Sampling rate for /content/drive/MyDrive/dataset/raw_data/files/S015/S015R07.edf: 160.0 Hz\n",
            "Sampling rate for /content/drive/MyDrive/dataset/raw_data/files/S015/S015R11.edf: 160.0 Hz\n",
            "Sampling rate for /content/drive/MyDrive/dataset/raw_data/files/S016/S016R03.edf: 160.0 Hz\n",
            "Sampling rate for /content/drive/MyDrive/dataset/raw_data/files/S016/S016R07.edf: 160.0 Hz\n",
            "Sampling rate for /content/drive/MyDrive/dataset/raw_data/files/S016/S016R11.edf: 160.0 Hz\n",
            "Sampling rate for /content/drive/MyDrive/dataset/raw_data/files/S017/S017R03.edf: 160.0 Hz\n",
            "Sampling rate for /content/drive/MyDrive/dataset/raw_data/files/S017/S017R07.edf: 160.0 Hz\n",
            "Sampling rate for /content/drive/MyDrive/dataset/raw_data/files/S017/S017R11.edf: 160.0 Hz\n",
            "Sampling rate for /content/drive/MyDrive/dataset/raw_data/files/S018/S018R03.edf: 160.0 Hz\n",
            "Sampling rate for /content/drive/MyDrive/dataset/raw_data/files/S018/S018R07.edf: 160.0 Hz\n",
            "Sampling rate for /content/drive/MyDrive/dataset/raw_data/files/S018/S018R11.edf: 160.0 Hz\n",
            "Sampling rate for /content/drive/MyDrive/dataset/raw_data/files/S019/S019R03.edf: 160.0 Hz\n",
            "Sampling rate for /content/drive/MyDrive/dataset/raw_data/files/S019/S019R07.edf: 160.0 Hz\n",
            "Sampling rate for /content/drive/MyDrive/dataset/raw_data/files/S019/S019R11.edf: 160.0 Hz\n",
            "Sampling rate for /content/drive/MyDrive/dataset/raw_data/files/S020/S020R03.edf: 160.0 Hz\n",
            "Sampling rate for /content/drive/MyDrive/dataset/raw_data/files/S020/S020R07.edf: 160.0 Hz\n",
            "Sampling rate for /content/drive/MyDrive/dataset/raw_data/files/S020/S020R11.edf: 160.0 Hz\n",
            "Sampling rate for /content/drive/MyDrive/dataset/raw_data/files/S021/S021R03.edf: 160.0 Hz\n",
            "Sampling rate for /content/drive/MyDrive/dataset/raw_data/files/S021/S021R07.edf: 160.0 Hz\n",
            "Sampling rate for /content/drive/MyDrive/dataset/raw_data/files/S021/S021R11.edf: 160.0 Hz\n",
            "Sampling rate for /content/drive/MyDrive/dataset/raw_data/files/S022/S022R03.edf: 160.0 Hz\n",
            "Sampling rate for /content/drive/MyDrive/dataset/raw_data/files/S022/S022R07.edf: 160.0 Hz\n",
            "Sampling rate for /content/drive/MyDrive/dataset/raw_data/files/S022/S022R11.edf: 160.0 Hz\n",
            "Sampling rate for /content/drive/MyDrive/dataset/raw_data/files/S023/S023R03.edf: 160.0 Hz\n",
            "Sampling rate for /content/drive/MyDrive/dataset/raw_data/files/S023/S023R07.edf: 160.0 Hz\n",
            "Sampling rate for /content/drive/MyDrive/dataset/raw_data/files/S023/S023R11.edf: 160.0 Hz\n",
            "Sampling rate for /content/drive/MyDrive/dataset/raw_data/files/S024/S024R03.edf: 160.0 Hz\n",
            "Sampling rate for /content/drive/MyDrive/dataset/raw_data/files/S024/S024R07.edf: 160.0 Hz\n",
            "Sampling rate for /content/drive/MyDrive/dataset/raw_data/files/S024/S024R11.edf: 160.0 Hz\n",
            "Sampling rate for /content/drive/MyDrive/dataset/raw_data/files/S025/S025R03.edf: 160.0 Hz\n",
            "Sampling rate for /content/drive/MyDrive/dataset/raw_data/files/S025/S025R07.edf: 160.0 Hz\n",
            "Sampling rate for /content/drive/MyDrive/dataset/raw_data/files/S025/S025R11.edf: 160.0 Hz\n",
            "Sampling rate for /content/drive/MyDrive/dataset/raw_data/files/S026/S026R03.edf: 160.0 Hz\n",
            "Sampling rate for /content/drive/MyDrive/dataset/raw_data/files/S026/S026R07.edf: 160.0 Hz\n",
            "Sampling rate for /content/drive/MyDrive/dataset/raw_data/files/S026/S026R11.edf: 160.0 Hz\n",
            "Sampling rate for /content/drive/MyDrive/dataset/raw_data/files/S027/S027R03.edf: 160.0 Hz\n",
            "Sampling rate for /content/drive/MyDrive/dataset/raw_data/files/S027/S027R07.edf: 160.0 Hz\n",
            "Sampling rate for /content/drive/MyDrive/dataset/raw_data/files/S027/S027R11.edf: 160.0 Hz\n",
            "Sampling rate for /content/drive/MyDrive/dataset/raw_data/files/S028/S028R03.edf: 160.0 Hz\n",
            "Sampling rate for /content/drive/MyDrive/dataset/raw_data/files/S028/S028R07.edf: 160.0 Hz\n",
            "Sampling rate for /content/drive/MyDrive/dataset/raw_data/files/S028/S028R11.edf: 160.0 Hz\n",
            "Sampling rate for /content/drive/MyDrive/dataset/raw_data/files/S029/S029R03.edf: 160.0 Hz\n",
            "Sampling rate for /content/drive/MyDrive/dataset/raw_data/files/S029/S029R07.edf: 160.0 Hz\n",
            "Sampling rate for /content/drive/MyDrive/dataset/raw_data/files/S029/S029R11.edf: 160.0 Hz\n",
            "Sampling rate for /content/drive/MyDrive/dataset/raw_data/files/S030/S030R03.edf: 160.0 Hz\n",
            "Sampling rate for /content/drive/MyDrive/dataset/raw_data/files/S030/S030R07.edf: 160.0 Hz\n",
            "Sampling rate for /content/drive/MyDrive/dataset/raw_data/files/S030/S030R11.edf: 160.0 Hz\n",
            "Sampling rate for /content/drive/MyDrive/dataset/raw_data/files/S031/S031R03.edf: 160.0 Hz\n",
            "Sampling rate for /content/drive/MyDrive/dataset/raw_data/files/S031/S031R07.edf: 160.0 Hz\n",
            "Sampling rate for /content/drive/MyDrive/dataset/raw_data/files/S031/S031R11.edf: 160.0 Hz\n",
            "Sampling rate for /content/drive/MyDrive/dataset/raw_data/files/S032/S032R03.edf: 160.0 Hz\n",
            "Sampling rate for /content/drive/MyDrive/dataset/raw_data/files/S032/S032R07.edf: 160.0 Hz\n",
            "Sampling rate for /content/drive/MyDrive/dataset/raw_data/files/S032/S032R11.edf: 160.0 Hz\n",
            "Sampling rate for /content/drive/MyDrive/dataset/raw_data/files/S033/S033R03.edf: 160.0 Hz\n",
            "Sampling rate for /content/drive/MyDrive/dataset/raw_data/files/S033/S033R07.edf: 160.0 Hz\n",
            "Sampling rate for /content/drive/MyDrive/dataset/raw_data/files/S033/S033R11.edf: 160.0 Hz\n",
            "Sampling rate for /content/drive/MyDrive/dataset/raw_data/files/S034/S034R03.edf: 160.0 Hz\n",
            "Sampling rate for /content/drive/MyDrive/dataset/raw_data/files/S034/S034R07.edf: 160.0 Hz\n",
            "Sampling rate for /content/drive/MyDrive/dataset/raw_data/files/S034/S034R11.edf: 160.0 Hz\n",
            "Sampling rate for /content/drive/MyDrive/dataset/raw_data/files/S035/S035R03.edf: 160.0 Hz\n",
            "Sampling rate for /content/drive/MyDrive/dataset/raw_data/files/S035/S035R07.edf: 160.0 Hz\n",
            "Sampling rate for /content/drive/MyDrive/dataset/raw_data/files/S035/S035R11.edf: 160.0 Hz\n",
            "Sampling rate for /content/drive/MyDrive/dataset/raw_data/files/S036/S036R03.edf: 160.0 Hz\n",
            "Sampling rate for /content/drive/MyDrive/dataset/raw_data/files/S036/S036R07.edf: 160.0 Hz\n",
            "Sampling rate for /content/drive/MyDrive/dataset/raw_data/files/S036/S036R11.edf: 160.0 Hz\n",
            "Sampling rate for /content/drive/MyDrive/dataset/raw_data/files/S037/S037R03.edf: 160.0 Hz\n",
            "Sampling rate for /content/drive/MyDrive/dataset/raw_data/files/S037/S037R07.edf: 160.0 Hz\n",
            "Sampling rate for /content/drive/MyDrive/dataset/raw_data/files/S037/S037R11.edf: 160.0 Hz\n",
            "Sampling rate for /content/drive/MyDrive/dataset/raw_data/files/S038/S038R03.edf: 160.0 Hz\n",
            "Sampling rate for /content/drive/MyDrive/dataset/raw_data/files/S038/S038R07.edf: 160.0 Hz\n",
            "Sampling rate for /content/drive/MyDrive/dataset/raw_data/files/S038/S038R11.edf: 160.0 Hz\n",
            "Sampling rate for /content/drive/MyDrive/dataset/raw_data/files/S039/S039R03.edf: 160.0 Hz\n",
            "Sampling rate for /content/drive/MyDrive/dataset/raw_data/files/S039/S039R07.edf: 160.0 Hz\n",
            "Sampling rate for /content/drive/MyDrive/dataset/raw_data/files/S039/S039R11.edf: 160.0 Hz\n",
            "Sampling rate for /content/drive/MyDrive/dataset/raw_data/files/S040/S040R03.edf: 160.0 Hz\n",
            "Sampling rate for /content/drive/MyDrive/dataset/raw_data/files/S040/S040R07.edf: 160.0 Hz\n",
            "Sampling rate for /content/drive/MyDrive/dataset/raw_data/files/S040/S040R11.edf: 160.0 Hz\n",
            "Sampling rate for /content/drive/MyDrive/dataset/raw_data/files/S041/S041R03.edf: 160.0 Hz\n",
            "Sampling rate for /content/drive/MyDrive/dataset/raw_data/files/S041/S041R07.edf: 160.0 Hz\n",
            "Sampling rate for /content/drive/MyDrive/dataset/raw_data/files/S041/S041R11.edf: 160.0 Hz\n",
            "Sampling rate for /content/drive/MyDrive/dataset/raw_data/files/S042/S042R03.edf: 160.0 Hz\n",
            "Sampling rate for /content/drive/MyDrive/dataset/raw_data/files/S042/S042R07.edf: 160.0 Hz\n",
            "Sampling rate for /content/drive/MyDrive/dataset/raw_data/files/S042/S042R11.edf: 160.0 Hz\n",
            "Sampling rate for /content/drive/MyDrive/dataset/raw_data/files/S043/S043R03.edf: 160.0 Hz\n",
            "Sampling rate for /content/drive/MyDrive/dataset/raw_data/files/S043/S043R07.edf: 160.0 Hz\n",
            "Sampling rate for /content/drive/MyDrive/dataset/raw_data/files/S043/S043R11.edf: 160.0 Hz\n",
            "Sampling rate for /content/drive/MyDrive/dataset/raw_data/files/S044/S044R03.edf: 160.0 Hz\n",
            "Sampling rate for /content/drive/MyDrive/dataset/raw_data/files/S044/S044R07.edf: 160.0 Hz\n",
            "Sampling rate for /content/drive/MyDrive/dataset/raw_data/files/S044/S044R11.edf: 160.0 Hz\n",
            "Sampling rate for /content/drive/MyDrive/dataset/raw_data/files/S045/S045R03.edf: 160.0 Hz\n",
            "Sampling rate for /content/drive/MyDrive/dataset/raw_data/files/S045/S045R07.edf: 160.0 Hz\n",
            "Sampling rate for /content/drive/MyDrive/dataset/raw_data/files/S045/S045R11.edf: 160.0 Hz\n",
            "Sampling rate for /content/drive/MyDrive/dataset/raw_data/files/S046/S046R03.edf: 160.0 Hz\n",
            "Sampling rate for /content/drive/MyDrive/dataset/raw_data/files/S046/S046R07.edf: 160.0 Hz\n",
            "Sampling rate for /content/drive/MyDrive/dataset/raw_data/files/S046/S046R11.edf: 160.0 Hz\n",
            "Sampling rate for /content/drive/MyDrive/dataset/raw_data/files/S047/S047R03.edf: 160.0 Hz\n",
            "Sampling rate for /content/drive/MyDrive/dataset/raw_data/files/S047/S047R07.edf: 160.0 Hz\n",
            "Sampling rate for /content/drive/MyDrive/dataset/raw_data/files/S047/S047R11.edf: 160.0 Hz\n",
            "Sampling rate for /content/drive/MyDrive/dataset/raw_data/files/S048/S048R03.edf: 160.0 Hz\n",
            "Sampling rate for /content/drive/MyDrive/dataset/raw_data/files/S048/S048R07.edf: 160.0 Hz\n",
            "Sampling rate for /content/drive/MyDrive/dataset/raw_data/files/S048/S048R11.edf: 160.0 Hz\n",
            "Sampling rate for /content/drive/MyDrive/dataset/raw_data/files/S049/S049R03.edf: 160.0 Hz\n",
            "Sampling rate for /content/drive/MyDrive/dataset/raw_data/files/S049/S049R07.edf: 160.0 Hz\n",
            "Sampling rate for /content/drive/MyDrive/dataset/raw_data/files/S049/S049R11.edf: 160.0 Hz\n",
            "Sampling rate for /content/drive/MyDrive/dataset/raw_data/files/S050/S050R03.edf: 160.0 Hz\n",
            "Sampling rate for /content/drive/MyDrive/dataset/raw_data/files/S050/S050R07.edf: 160.0 Hz\n",
            "Sampling rate for /content/drive/MyDrive/dataset/raw_data/files/S050/S050R11.edf: 160.0 Hz\n",
            "Sampling rate for /content/drive/MyDrive/dataset/raw_data/files/S051/S051R03.edf: 160.0 Hz\n",
            "Sampling rate for /content/drive/MyDrive/dataset/raw_data/files/S051/S051R07.edf: 160.0 Hz\n",
            "Sampling rate for /content/drive/MyDrive/dataset/raw_data/files/S051/S051R11.edf: 160.0 Hz\n",
            "Sampling rate for /content/drive/MyDrive/dataset/raw_data/files/S052/S052R03.edf: 160.0 Hz\n",
            "Sampling rate for /content/drive/MyDrive/dataset/raw_data/files/S052/S052R07.edf: 160.0 Hz\n",
            "Sampling rate for /content/drive/MyDrive/dataset/raw_data/files/S052/S052R11.edf: 160.0 Hz\n",
            "Sampling rate for /content/drive/MyDrive/dataset/raw_data/files/S053/S053R03.edf: 160.0 Hz\n",
            "Sampling rate for /content/drive/MyDrive/dataset/raw_data/files/S053/S053R07.edf: 160.0 Hz\n",
            "Sampling rate for /content/drive/MyDrive/dataset/raw_data/files/S053/S053R11.edf: 160.0 Hz\n",
            "Sampling rate for /content/drive/MyDrive/dataset/raw_data/files/S054/S054R03.edf: 160.0 Hz\n",
            "Sampling rate for /content/drive/MyDrive/dataset/raw_data/files/S054/S054R07.edf: 160.0 Hz\n",
            "Sampling rate for /content/drive/MyDrive/dataset/raw_data/files/S054/S054R11.edf: 160.0 Hz\n",
            "Sampling rate for /content/drive/MyDrive/dataset/raw_data/files/S055/S055R03.edf: 160.0 Hz\n",
            "Sampling rate for /content/drive/MyDrive/dataset/raw_data/files/S055/S055R07.edf: 160.0 Hz\n",
            "Sampling rate for /content/drive/MyDrive/dataset/raw_data/files/S055/S055R11.edf: 160.0 Hz\n",
            "Sampling rate for /content/drive/MyDrive/dataset/raw_data/files/S056/S056R03.edf: 160.0 Hz\n",
            "Sampling rate for /content/drive/MyDrive/dataset/raw_data/files/S056/S056R07.edf: 160.0 Hz\n",
            "Sampling rate for /content/drive/MyDrive/dataset/raw_data/files/S056/S056R11.edf: 160.0 Hz\n",
            "Sampling rate for /content/drive/MyDrive/dataset/raw_data/files/S057/S057R03.edf: 160.0 Hz\n",
            "Sampling rate for /content/drive/MyDrive/dataset/raw_data/files/S057/S057R07.edf: 160.0 Hz\n",
            "Sampling rate for /content/drive/MyDrive/dataset/raw_data/files/S057/S057R11.edf: 160.0 Hz\n",
            "Sampling rate for /content/drive/MyDrive/dataset/raw_data/files/S058/S058R03.edf: 160.0 Hz\n",
            "Sampling rate for /content/drive/MyDrive/dataset/raw_data/files/S058/S058R07.edf: 160.0 Hz\n",
            "Sampling rate for /content/drive/MyDrive/dataset/raw_data/files/S058/S058R11.edf: 160.0 Hz\n",
            "Sampling rate for /content/drive/MyDrive/dataset/raw_data/files/S059/S059R03.edf: 160.0 Hz\n",
            "Sampling rate for /content/drive/MyDrive/dataset/raw_data/files/S059/S059R07.edf: 160.0 Hz\n",
            "Sampling rate for /content/drive/MyDrive/dataset/raw_data/files/S059/S059R11.edf: 160.0 Hz\n",
            "Sampling rate for /content/drive/MyDrive/dataset/raw_data/files/S060/S060R03.edf: 160.0 Hz\n",
            "Sampling rate for /content/drive/MyDrive/dataset/raw_data/files/S060/S060R07.edf: 160.0 Hz\n",
            "Sampling rate for /content/drive/MyDrive/dataset/raw_data/files/S060/S060R11.edf: 160.0 Hz\n",
            "Sampling rate for /content/drive/MyDrive/dataset/raw_data/files/S061/S061R03.edf: 160.0 Hz\n",
            "Sampling rate for /content/drive/MyDrive/dataset/raw_data/files/S061/S061R07.edf: 160.0 Hz\n",
            "Sampling rate for /content/drive/MyDrive/dataset/raw_data/files/S061/S061R11.edf: 160.0 Hz\n",
            "Sampling rate for /content/drive/MyDrive/dataset/raw_data/files/S062/S062R03.edf: 160.0 Hz\n",
            "Sampling rate for /content/drive/MyDrive/dataset/raw_data/files/S062/S062R07.edf: 160.0 Hz\n",
            "Sampling rate for /content/drive/MyDrive/dataset/raw_data/files/S062/S062R11.edf: 160.0 Hz\n",
            "Sampling rate for /content/drive/MyDrive/dataset/raw_data/files/S063/S063R03.edf: 160.0 Hz\n",
            "Sampling rate for /content/drive/MyDrive/dataset/raw_data/files/S063/S063R07.edf: 160.0 Hz\n",
            "Sampling rate for /content/drive/MyDrive/dataset/raw_data/files/S063/S063R11.edf: 160.0 Hz\n",
            "Sampling rate for /content/drive/MyDrive/dataset/raw_data/files/S064/S064R03.edf: 160.0 Hz\n",
            "Sampling rate for /content/drive/MyDrive/dataset/raw_data/files/S064/S064R07.edf: 160.0 Hz\n",
            "Sampling rate for /content/drive/MyDrive/dataset/raw_data/files/S064/S064R11.edf: 160.0 Hz\n",
            "Sampling rate for /content/drive/MyDrive/dataset/raw_data/files/S065/S065R03.edf: 160.0 Hz\n",
            "Sampling rate for /content/drive/MyDrive/dataset/raw_data/files/S065/S065R07.edf: 160.0 Hz\n",
            "Sampling rate for /content/drive/MyDrive/dataset/raw_data/files/S065/S065R11.edf: 160.0 Hz\n",
            "Sampling rate for /content/drive/MyDrive/dataset/raw_data/files/S066/S066R03.edf: 160.0 Hz\n",
            "Sampling rate for /content/drive/MyDrive/dataset/raw_data/files/S066/S066R07.edf: 160.0 Hz\n",
            "Sampling rate for /content/drive/MyDrive/dataset/raw_data/files/S066/S066R11.edf: 160.0 Hz\n",
            "Sampling rate for /content/drive/MyDrive/dataset/raw_data/files/S067/S067R03.edf: 160.0 Hz\n",
            "Sampling rate for /content/drive/MyDrive/dataset/raw_data/files/S067/S067R07.edf: 160.0 Hz\n",
            "Sampling rate for /content/drive/MyDrive/dataset/raw_data/files/S067/S067R11.edf: 160.0 Hz\n",
            "Sampling rate for /content/drive/MyDrive/dataset/raw_data/files/S068/S068R03.edf: 160.0 Hz\n",
            "Sampling rate for /content/drive/MyDrive/dataset/raw_data/files/S068/S068R07.edf: 160.0 Hz\n",
            "Sampling rate for /content/drive/MyDrive/dataset/raw_data/files/S068/S068R11.edf: 160.0 Hz\n",
            "Sampling rate for /content/drive/MyDrive/dataset/raw_data/files/S069/S069R03.edf: 160.0 Hz\n",
            "Sampling rate for /content/drive/MyDrive/dataset/raw_data/files/S069/S069R07.edf: 160.0 Hz\n",
            "Sampling rate for /content/drive/MyDrive/dataset/raw_data/files/S069/S069R11.edf: 160.0 Hz\n",
            "Sampling rate for /content/drive/MyDrive/dataset/raw_data/files/S070/S070R03.edf: 160.0 Hz\n",
            "Sampling rate for /content/drive/MyDrive/dataset/raw_data/files/S070/S070R07.edf: 160.0 Hz\n",
            "Sampling rate for /content/drive/MyDrive/dataset/raw_data/files/S070/S070R11.edf: 160.0 Hz\n",
            "Sampling rate for /content/drive/MyDrive/dataset/raw_data/files/S071/S071R03.edf: 160.0 Hz\n",
            "Sampling rate for /content/drive/MyDrive/dataset/raw_data/files/S071/S071R07.edf: 160.0 Hz\n",
            "Sampling rate for /content/drive/MyDrive/dataset/raw_data/files/S071/S071R11.edf: 160.0 Hz\n",
            "Sampling rate for /content/drive/MyDrive/dataset/raw_data/files/S072/S072R03.edf: 160.0 Hz\n",
            "Sampling rate for /content/drive/MyDrive/dataset/raw_data/files/S072/S072R07.edf: 160.0 Hz\n",
            "Sampling rate for /content/drive/MyDrive/dataset/raw_data/files/S072/S072R11.edf: 160.0 Hz\n",
            "Sampling rate for /content/drive/MyDrive/dataset/raw_data/files/S073/S073R03.edf: 160.0 Hz\n",
            "Sampling rate for /content/drive/MyDrive/dataset/raw_data/files/S073/S073R07.edf: 160.0 Hz\n",
            "Sampling rate for /content/drive/MyDrive/dataset/raw_data/files/S073/S073R11.edf: 160.0 Hz\n",
            "Sampling rate for /content/drive/MyDrive/dataset/raw_data/files/S074/S074R03.edf: 160.0 Hz\n",
            "Sampling rate for /content/drive/MyDrive/dataset/raw_data/files/S074/S074R07.edf: 160.0 Hz\n",
            "Sampling rate for /content/drive/MyDrive/dataset/raw_data/files/S074/S074R11.edf: 160.0 Hz\n",
            "Sampling rate for /content/drive/MyDrive/dataset/raw_data/files/S075/S075R03.edf: 160.0 Hz\n",
            "Sampling rate for /content/drive/MyDrive/dataset/raw_data/files/S075/S075R07.edf: 160.0 Hz\n",
            "Sampling rate for /content/drive/MyDrive/dataset/raw_data/files/S075/S075R11.edf: 160.0 Hz\n",
            "Sampling rate for /content/drive/MyDrive/dataset/raw_data/files/S076/S076R03.edf: 160.0 Hz\n",
            "Sampling rate for /content/drive/MyDrive/dataset/raw_data/files/S076/S076R07.edf: 160.0 Hz\n",
            "Sampling rate for /content/drive/MyDrive/dataset/raw_data/files/S076/S076R11.edf: 160.0 Hz\n",
            "Sampling rate for /content/drive/MyDrive/dataset/raw_data/files/S077/S077R03.edf: 160.0 Hz\n",
            "Sampling rate for /content/drive/MyDrive/dataset/raw_data/files/S077/S077R07.edf: 160.0 Hz\n",
            "Sampling rate for /content/drive/MyDrive/dataset/raw_data/files/S077/S077R11.edf: 160.0 Hz\n",
            "Sampling rate for /content/drive/MyDrive/dataset/raw_data/files/S078/S078R03.edf: 160.0 Hz\n",
            "Sampling rate for /content/drive/MyDrive/dataset/raw_data/files/S078/S078R07.edf: 160.0 Hz\n",
            "Sampling rate for /content/drive/MyDrive/dataset/raw_data/files/S078/S078R11.edf: 160.0 Hz\n",
            "Sampling rate for /content/drive/MyDrive/dataset/raw_data/files/S079/S079R03.edf: 160.0 Hz\n",
            "Sampling rate for /content/drive/MyDrive/dataset/raw_data/files/S079/S079R07.edf: 160.0 Hz\n",
            "Sampling rate for /content/drive/MyDrive/dataset/raw_data/files/S079/S079R11.edf: 160.0 Hz\n",
            "Used Annotations descriptions: [np.str_('T0'), np.str_('T1'), np.str_('T2')]\n",
            "Annotations found: [np.str_('T0'), np.str_('T1'), np.str_('T2')]\n",
            "Number of EEG channels: 64\n",
            "Not setting metadata\n",
            "3555 matching events found\n",
            "No baseline correction applied\n",
            "Using data from preloaded Raw for 3555 events and 497 original time points ...\n",
            "189 bad epochs dropped\n",
            "Original test X shape: (3366, 64, 497), Test y shape: (3366,)\n",
            "Resampling epochs from 497 to 656 samples\n",
            "Resampled test X shape: (3366, 64, 656)\n",
            "Final test X shape: (3366, 64, 656), Test y shape: (3366,)\n",
            "Class distribution: Left=1688, Right=1678\n"
          ]
        }
      ]
    },
    {
      "cell_type": "code",
      "source": [
        "class EEGDataset(data.Dataset):\n",
        "    def __init__(self, x, y=None, inference=False):\n",
        "        super().__init__()\n",
        "        self.__split = \"test\" if not inference else \"inference\"\n",
        "        self.dataset = {'x': x, 'y': y} if not inference else {'x': x}\n",
        "\n",
        "    def __len__(self):\n",
        "        return len(self.dataset['x'])\n",
        "\n",
        "    def __getitem__(self, idx):\n",
        "        x = self.dataset['x'][idx]\n",
        "        x = torch.tensor(x).float()\n",
        "        if self.__split != \"inference\":\n",
        "            y = self.dataset['y'][idx]\n",
        "            y = torch.tensor(y).unsqueeze(-1).float()\n",
        "            return x, y\n",
        "        return x\n",
        "\n",
        "test_dataset = EEGDataset(X_test, y_test)\n",
        "test_loader = torch.utils.data.DataLoader(test_dataset, batch_size=1, shuffle=False)"
      ],
      "metadata": {
        "id": "Qwoqra38z8JL"
      },
      "execution_count": null,
      "outputs": []
    },
    {
      "cell_type": "code",
      "source": [
        "def evaluate_model(model, test_loader, model_type, eeg_channel):\n",
        "    accuracy = Accuracy(task=\"binary\")\n",
        "    precision = Precision(task=\"binary\", average='macro', num_classes=2)\n",
        "    recall = Recall(task=\"binary\", average='macro', num_classes=2)\n",
        "    f1 = F1Score(task=\"binary\", average='macro', num_classes=2)\n",
        "    predictions = []\n",
        "    probabilities = []\n",
        "    true_labels = []\n",
        "    test_loss = []\n",
        "    running_accuracy = []\n",
        "    cumulative_correct = 0\n",
        "    total_samples = 0\n",
        "\n",
        "    with torch.no_grad():\n",
        "        for x, y in test_loader:\n",
        "            y_hat = model(x)\n",
        "            prob = torch.sigmoid(y_hat)\n",
        "            pred = (prob > 0.5).float()\n",
        "            loss = F.binary_cross_entropy_with_logits(y_hat, y)\n",
        "            test_loss.append(loss.item())\n",
        "            predictions.append(pred.cpu().numpy())\n",
        "            probabilities.append(prob.cpu().numpy())\n",
        "            true_labels.append(y.cpu().numpy())\n",
        "            accuracy.update(y_hat, y)\n",
        "            precision.update(y_hat, y)\n",
        "            recall.update(y_hat, y)\n",
        "            f1.update(y_hat, y)\n",
        "            cumulative_correct += (pred == y).float().sum().item()\n",
        "            total_samples += y.size(0)\n",
        "            running_accuracy.append(cumulative_correct / total_samples)\n",
        "\n",
        "    predictions = np.concatenate(predictions).flatten()\n",
        "    probabilities = np.concatenate(probabilities).flatten()\n",
        "    true_labels = np.concatenate(true_labels).flatten()\n",
        "    avg_loss = np.mean(test_loss)\n",
        "    acc = accuracy.compute().item()\n",
        "    prec = precision.compute().item()\n",
        "    rec = recall.compute().item()\n",
        "    f1_score = f1.compute().item()\n",
        "\n",
        "    # Per-class metrics\n",
        "    correct_left = np.sum((predictions == 0) & (true_labels == 0))\n",
        "    correct_right = np.sum((predictions == 1) & (true_labels == 1))\n",
        "    total_left = np.sum(true_labels == 0)\n",
        "    total_right = np.sum(true_labels == 1)\n",
        "\n",
        "    # Confusion matrix\n",
        "    cm = confusion_matrix(true_labels, predictions)\n",
        "\n",
        "    # ROC and AUC\n",
        "    fpr, tpr, _ = roc_curve(true_labels, probabilities)\n",
        "    roc_auc = auc(fpr, tpr)\n",
        "\n",
        "    # Visualizations\n",
        "    # Separate scatterplots for each class\n",
        "    left_indices = np.where(true_labels == 0)[0][:100]\n",
        "    right_indices = np.where(true_labels == 1)[0][:100]\n",
        "\n",
        "    plt.figure(figsize=(10, 5))\n",
        "    correct_mask_left = predictions[left_indices] == true_labels[left_indices]\n",
        "    plt.scatter(left_indices, probabilities[left_indices], c=np.where(correct_mask_left, '#33CAFF', '#2EBA15'), alpha=0.6)\n",
        "    plt.axhline(y=0.5, color='r', linestyle='--', label='Threshold (0.5)')\n",
        "    plt.title(f\"{model_type} Model: Predicted Probabilities for Left Class (First 100)\")\n",
        "    plt.xlabel(\"Sample Index\")\n",
        "    plt.ylabel(\"Predicted Probability\")\n",
        "    plt.legend()\n",
        "    plt.grid(True, alpha=0.3)\n",
        "    plt.savefig(f\"/content/{model_type}_left_scatter.png\")\n",
        "    plt.clf()\n",
        "\n",
        "    plt.figure(figsize=(10, 5))\n",
        "    correct_mask_right = predictions[right_indices] == true_labels[right_indices]\n",
        "    plt.scatter(right_indices, probabilities[right_indices], c=np.where(correct_mask_right, '#33CAFF', '#2EBA15'), alpha=0.6)\n",
        "    plt.axhline(y=0.5, color='r', linestyle='--', label='Threshold (0.5)')\n",
        "    plt.title(f\"{model_type} Model: Predicted Probabilities for Right Class (First 100)\")\n",
        "    plt.xlabel(\"Sample Index\")\n",
        "    plt.ylabel(\"Predicted Probability\")\n",
        "    plt.legend()\n",
        "    plt.grid(True, alpha=0.3)\n",
        "    plt.savefig(f\"/content/{model_type}_right_scatter.png\")\n",
        "    plt.clf()\n",
        "\n",
        "    # Accuracy bar plot\n",
        "    class_accuracy = [correct_left/total_left if total_left > 0 else 0, correct_right/total_right if total_right > 0 else 0]\n",
        "    plt.figure(figsize=(8, 5))\n",
        "    plt.bar(CLASSES, class_accuracy, color=['#87CEEB', '#90EE90'])\n",
        "    plt.title(f\"{model_type} Model: Accuracy per Class\")\n",
        "    plt.ylabel(\"Accuracy\")\n",
        "    plt.ylim(0, 1)\n",
        "    for i, v in enumerate(class_accuracy):\n",
        "        plt.text(i, v + 0.02, f\"{v:.4f}\", ha='center')\n",
        "    plt.grid(True, alpha=0.3)\n",
        "    plt.savefig(f\"/content/{model_type}_class_accuracy.png\")\n",
        "    plt.clf()\n",
        "\n",
        "    # Running accuracy curve\n",
        "    plt.figure(figsize=(10, 5))\n",
        "    plt.plot(running_accuracy, color='#33CAFF', label='Test Accuracy')\n",
        "    plt.title(f\"{model_type} Model: Test Accuracy Curve\")\n",
        "    plt.xlabel(\"Sample Index\")\n",
        "    plt.ylabel(\"Cumulative Accuracy\")\n",
        "    plt.ylim(0, 1)\n",
        "    plt.legend()\n",
        "    plt.grid(True, alpha=0.3)\n",
        "    plt.savefig(f\"/content/{model_type}_accuracy_curve.png\")\n",
        "    plt.clf()\n",
        "\n",
        "    # Confusion matrix\n",
        "    plt.figure(figsize=(8, 6))\n",
        "    sns.heatmap(cm, annot=True, fmt='d', cmap='Blues', xticklabels=CLASSES, yticklabels=CLASSES)\n",
        "    plt.title(f\"{model_type} Model: Confusion Matrix\")\n",
        "    plt.xlabel(\"Predicted\")\n",
        "    plt.ylabel(\"True\")\n",
        "    plt.savefig(f\"/content/{model_type}_confusion_matrix.png\")\n",
        "    plt.clf()\n",
        "\n",
        "    # ROC curve\n",
        "    plt.figure(figsize=(8, 6))\n",
        "    plt.plot(fpr, tpr, label=f'ROC curve (AUC = {roc_auc:.2f})')\n",
        "    plt.plot([0, 1], [0, 1], 'k--')\n",
        "    plt.xlabel(\"False Positive Rate\")\n",
        "    plt.ylabel(\"True Positive Rate\")\n",
        "    plt.title(f\"{model_type} Model: ROC Curve\")\n",
        "    plt.legend()\n",
        "    plt.grid(True, alpha=0.3)\n",
        "    plt.savefig(f\"/content/{model_type}_roc_curve.png\")\n",
        "    plt.clf()\n",
        "\n",
        "    # Save predictions to CSV\n",
        "    pred_df = pd.DataFrame({\n",
        "        'Sample Index': range(len(true_labels)),\n",
        "        'True Label': true_labels,\n",
        "        'Predicted Label': predictions,\n",
        "        'Probability': probabilities\n",
        "    })\n",
        "    pred_df.to_csv(f\"/content/{model_type}_predictions.csv\", index=False)\n",
        "\n",
        "    return {\n",
        "        'loss': avg_loss,\n",
        "        'accuracy': acc,\n",
        "        'precision': prec,\n",
        "        'recall': rec,\n",
        "        'f1_score': f1_score,\n",
        "        'correct_left': correct_left,\n",
        "        'total_left': total_left,\n",
        "        'correct_right': correct_right,\n",
        "        'total_right': total_right,\n",
        "        'confusion_matrix': cm,\n",
        "        'roc_auc': roc_auc,\n",
        "        'predictions_csv': f\"/content/{model_type}_predictions.csv\",\n",
        "        'visualizations': [\n",
        "            f\"/content/{model_type}_left_scatter.png\",\n",
        "            f\"/content/{model_type}_right_scatter.png\",\n",
        "            f\"/content/{model_type}_class_accuracy.png\",\n",
        "            f\"/content/{model_type}_accuracy_curve.png\",\n",
        "            f\"/content/{model_type}_confusion_matrix.png\",\n",
        "            f\"/content/{model_type}_roc_curve.png\"\n",
        "        ]\n",
        "    }"
      ],
      "metadata": {
        "id": "iqxZwFV565w8"
      },
      "execution_count": null,
      "outputs": []
    },
    {
      "cell_type": "code",
      "source": [
        "print(\"Testing PyTorch Model...\")\n",
        "model_pytorch = EEGClassificationModel(eeg_channel=EEG_CHANNEL, dropout=0.125)\n",
        "model_pytorch.load_state_dict(torch.load(os.path.join(MODEL_DIR, \"model_pytorch.pth\")))\n",
        "model_pytorch.eval()\n",
        "pytorch_results = evaluate_model(model_pytorch, test_loader, \"PyTorch\", EEG_CHANNEL)"
      ],
      "metadata": {
        "id": "pVVDNcIwACK7",
        "colab": {
          "base_uri": "https://localhost:8080/",
          "height": 138
        },
        "outputId": "795e4e18-d8a4-4285-9548-da087e20a9d3"
      },
      "execution_count": null,
      "outputs": [
        {
          "output_type": "stream",
          "name": "stdout",
          "text": [
            "Testing PyTorch Model...\n"
          ]
        },
        {
          "output_type": "display_data",
          "data": {
            "text/plain": [
              "<Figure size 1000x500 with 0 Axes>"
            ]
          },
          "metadata": {}
        },
        {
          "output_type": "display_data",
          "data": {
            "text/plain": [
              "<Figure size 1000x500 with 0 Axes>"
            ]
          },
          "metadata": {}
        },
        {
          "output_type": "display_data",
          "data": {
            "text/plain": [
              "<Figure size 800x500 with 0 Axes>"
            ]
          },
          "metadata": {}
        },
        {
          "output_type": "display_data",
          "data": {
            "text/plain": [
              "<Figure size 1000x500 with 0 Axes>"
            ]
          },
          "metadata": {}
        },
        {
          "output_type": "display_data",
          "data": {
            "text/plain": [
              "<Figure size 800x600 with 0 Axes>"
            ]
          },
          "metadata": {}
        },
        {
          "output_type": "display_data",
          "data": {
            "text/plain": [
              "<Figure size 800x600 with 0 Axes>"
            ]
          },
          "metadata": {}
        }
      ]
    },
    {
      "cell_type": "code",
      "source": [
        "class ModelWrapper(pl.LightningModule):\n",
        "    def __init__(self, arch):\n",
        "        super().__init__()\n",
        "        self.arch = arch\n",
        "        self.test_accuracy = Accuracy(task=\"binary\")\n",
        "        self.test_precision = Precision(task=\"binary\", average='macro', num_classes=2)\n",
        "        self.test_recall = Recall(task=\"binary\", average='macro', num_classes=2)\n",
        "        self.test_f1 = F1Score(task=\"binary\", average='macro', num_classes=2)\n",
        "\n",
        "    def forward(self, x):\n",
        "        return self.arch(x)\n",
        "\n",
        "    def test_step(self, batch, batch_nb):\n",
        "        x, y = batch\n",
        "        y_hat = self(x)\n",
        "        loss = F.binary_cross_entropy_with_logits(y_hat, y)\n",
        "        self.test_accuracy.update(y_hat, y)\n",
        "        self.test_precision.update(y_hat, y)\n",
        "        self.test_recall.update(y_hat, y)\n",
        "        self.test_f1.update(y_hat, y)\n",
        "        self.log(\"test_loss\", loss, prog_bar=True)\n",
        "        self.log(\"test_acc\", self.test_accuracy.compute(), prog_bar=True)\n",
        "        self.log(\"test_precision\", self.test_precision.compute(), prog_bar=True)\n",
        "        self.log(\"test_recall\", self.test_recall.compute(), prog_bar=True)\n",
        "        self.log(\"test_f1\", self.test_f1.compute(), prog_bar=True)\n",
        "\n",
        "print(\"Testing Lightning Model...\")\n",
        "model_lightning = EEGClassificationModel(eeg_channel=EEG_CHANNEL, dropout=0.125)\n",
        "wrapper = ModelWrapper(model_lightning)\n",
        "checkpoint = torch.load(os.path.join(MODEL_DIR, \"model_lightning.ckpt\"))\n",
        "wrapper.load_state_dict(checkpoint['state_dict'])\n",
        "wrapper.eval()\n",
        "trainer = pl.Trainer(accelerator=\"auto\", devices=1)\n",
        "trainer.test(wrapper, dataloaders=test_loader)\n",
        "lightning_results = {\n",
        "    'loss': trainer.logged_metrics.get('test_loss', 0.0),\n",
        "    'accuracy': trainer.logged_metrics.get('test_acc', 0.0),\n",
        "    'precision': trainer.logged_metrics.get('test_precision', 0.0),\n",
        "    'recall': trainer.logged_metrics.get('test_recall', 0.0),\n",
        "    'f1_score': trainer.logged_metrics.get('test_f1', 0.0)\n",
        "}"
      ],
      "metadata": {
        "colab": {
          "base_uri": "https://localhost:8080/",
          "height": 300,
          "referenced_widgets": [
            "d612afad2c8640d7a2fd378331264515",
            "7c63022b598a4792bcbc2926d333efd7",
            "c7df05deed2e48f3a3564be94ecc263b",
            "804f2f4fac864fbfb736d9aa548e5b27",
            "f07c7283aa784004a19ebb644e87dbf5",
            "02796430577a453f9276e6cec9179e31",
            "1f380c75169e4a6abb9fbd630beee4b6",
            "07164e9e24bf447aa38d08d1962e2db6",
            "3ba20b3fb65e45189c50f08171ab1d2c",
            "a3f75db9476049a08bdf69d534435770",
            "5a43c424488a43aca4c126d698908436"
          ]
        },
        "id": "txlBzvTDL9rC",
        "outputId": "20101c58-fa0b-401f-8331-89647e98a894"
      },
      "execution_count": null,
      "outputs": [
        {
          "output_type": "stream",
          "name": "stdout",
          "text": [
            "Testing Lightning Model...\n"
          ]
        },
        {
          "output_type": "stream",
          "name": "stderr",
          "text": [
            "INFO:pytorch_lightning.utilities.rank_zero:Using default `ModelCheckpoint`. Consider installing `litmodels` package to enable `LitModelCheckpoint` for automatic upload to the Lightning model registry.\n",
            "INFO:pytorch_lightning.utilities.rank_zero:GPU available: False, used: False\n",
            "INFO:pytorch_lightning.utilities.rank_zero:TPU available: False, using: 0 TPU cores\n",
            "INFO:pytorch_lightning.utilities.rank_zero:HPU available: False, using: 0 HPUs\n"
          ]
        },
        {
          "output_type": "display_data",
          "data": {
            "text/plain": [
              "Testing: |          | 0/? [00:00<?, ?it/s]"
            ],
            "application/vnd.jupyter.widget-view+json": {
              "version_major": 2,
              "version_minor": 0,
              "model_id": "d612afad2c8640d7a2fd378331264515"
            }
          },
          "metadata": {}
        },
        {
          "output_type": "display_data",
          "data": {
            "text/plain": [
              "┏━━━━━━━━━━━━━━━━━━━━━━━━━━━┳━━━━━━━━━━━━━━━━━━━━━━━━━━━┓\n",
              "┃\u001b[1m \u001b[0m\u001b[1m       Test metric       \u001b[0m\u001b[1m \u001b[0m┃\u001b[1m \u001b[0m\u001b[1m      DataLoader 0       \u001b[0m\u001b[1m \u001b[0m┃\n",
              "┡━━━━━━━━━━━━━━━━━━━━━━━━━━━╇━━━━━━━━━━━━━━━━━━━━━━━━━━━┩\n",
              "│\u001b[36m \u001b[0m\u001b[36m        test_acc         \u001b[0m\u001b[36m \u001b[0m│\u001b[35m \u001b[0m\u001b[35m   0.7059139609336853    \u001b[0m\u001b[35m \u001b[0m│\n",
              "│\u001b[36m \u001b[0m\u001b[36m         test_f1         \u001b[0m\u001b[36m \u001b[0m│\u001b[35m \u001b[0m\u001b[35m   0.6898722052574158    \u001b[0m\u001b[35m \u001b[0m│\n",
              "│\u001b[36m \u001b[0m\u001b[36m        test_loss        \u001b[0m\u001b[36m \u001b[0m│\u001b[35m \u001b[0m\u001b[35m   0.8122265338897705    \u001b[0m\u001b[35m \u001b[0m│\n",
              "│\u001b[36m \u001b[0m\u001b[36m     test_precision      \u001b[0m\u001b[36m \u001b[0m│\u001b[35m \u001b[0m\u001b[35m   0.7276922464370728    \u001b[0m\u001b[35m \u001b[0m│\n",
              "│\u001b[36m \u001b[0m\u001b[36m       test_recall       \u001b[0m\u001b[36m \u001b[0m│\u001b[35m \u001b[0m\u001b[35m   0.6560699939727783    \u001b[0m\u001b[35m \u001b[0m│\n",
              "└───────────────────────────┴───────────────────────────┘\n"
            ],
            "text/html": [
              "<pre style=\"white-space:pre;overflow-x:auto;line-height:normal;font-family:Menlo,'DejaVu Sans Mono',consolas,'Courier New',monospace\">┏━━━━━━━━━━━━━━━━━━━━━━━━━━━┳━━━━━━━━━━━━━━━━━━━━━━━━━━━┓\n",
              "┃<span style=\"font-weight: bold\">        Test metric        </span>┃<span style=\"font-weight: bold\">       DataLoader 0        </span>┃\n",
              "┡━━━━━━━━━━━━━━━━━━━━━━━━━━━╇━━━━━━━━━━━━━━━━━━━━━━━━━━━┩\n",
              "│<span style=\"color: #008080; text-decoration-color: #008080\">         test_acc          </span>│<span style=\"color: #800080; text-decoration-color: #800080\">    0.7059139609336853     </span>│\n",
              "│<span style=\"color: #008080; text-decoration-color: #008080\">          test_f1          </span>│<span style=\"color: #800080; text-decoration-color: #800080\">    0.6898722052574158     </span>│\n",
              "│<span style=\"color: #008080; text-decoration-color: #008080\">         test_loss         </span>│<span style=\"color: #800080; text-decoration-color: #800080\">    0.8122265338897705     </span>│\n",
              "│<span style=\"color: #008080; text-decoration-color: #008080\">      test_precision       </span>│<span style=\"color: #800080; text-decoration-color: #800080\">    0.7276922464370728     </span>│\n",
              "│<span style=\"color: #008080; text-decoration-color: #008080\">        test_recall        </span>│<span style=\"color: #800080; text-decoration-color: #800080\">    0.6560699939727783     </span>│\n",
              "└───────────────────────────┴───────────────────────────┘\n",
              "</pre>\n"
            ]
          },
          "metadata": {}
        }
      ]
    },
    {
      "cell_type": "code",
      "source": [
        "lightning_results.update(evaluate_model(wrapper, test_loader, \"Lightning\", EEG_CHANNEL))"
      ],
      "metadata": {
        "colab": {
          "base_uri": "https://localhost:8080/",
          "height": 121
        },
        "id": "G90UDo-RMInK",
        "outputId": "2bbccec1-6523-4820-bbb9-7a222ae9c9b7"
      },
      "execution_count": null,
      "outputs": [
        {
          "output_type": "display_data",
          "data": {
            "text/plain": [
              "<Figure size 1000x500 with 0 Axes>"
            ]
          },
          "metadata": {}
        },
        {
          "output_type": "display_data",
          "data": {
            "text/plain": [
              "<Figure size 1000x500 with 0 Axes>"
            ]
          },
          "metadata": {}
        },
        {
          "output_type": "display_data",
          "data": {
            "text/plain": [
              "<Figure size 800x500 with 0 Axes>"
            ]
          },
          "metadata": {}
        },
        {
          "output_type": "display_data",
          "data": {
            "text/plain": [
              "<Figure size 1000x500 with 0 Axes>"
            ]
          },
          "metadata": {}
        },
        {
          "output_type": "display_data",
          "data": {
            "text/plain": [
              "<Figure size 800x600 with 0 Axes>"
            ]
          },
          "metadata": {}
        },
        {
          "output_type": "display_data",
          "data": {
            "text/plain": [
              "<Figure size 800x600 with 0 Axes>"
            ]
          },
          "metadata": {}
        }
      ]
    },
    {
      "cell_type": "code",
      "source": [
        "print(\"Testing ONNX Model...\")\n",
        "ort_session = ort.InferenceSession(os.path.join(MODEL_DIR, \"model.onnx\"))\n",
        "def onnx_model(x):\n",
        "    x_np = x.numpy()\n",
        "    expected_shape = (1, EEG_CHANNEL, int(4.1 * 160))\n",
        "    if x_np.shape != expected_shape:\n",
        "        raise ValueError(f\"Input shape {x_np.shape} does not match expected {expected_shape}\")\n",
        "    ort_inputs = {ort_session.get_inputs()[0].name: x_np}\n",
        "    y_hat = torch.tensor(ort_session.run(None, ort_inputs)[0])\n",
        "    return y_hat\n",
        "\n",
        "onnx_results = evaluate_model(onnx_model, test_loader, \"ONNX\", EEG_CHANNEL)"
      ],
      "metadata": {
        "colab": {
          "base_uri": "https://localhost:8080/",
          "height": 138
        },
        "id": "em8kxbBnMLZa",
        "outputId": "b0a605f9-346b-4e49-9a65-d5286a1c4683"
      },
      "execution_count": null,
      "outputs": [
        {
          "output_type": "stream",
          "name": "stdout",
          "text": [
            "Testing ONNX Model...\n"
          ]
        },
        {
          "output_type": "display_data",
          "data": {
            "text/plain": [
              "<Figure size 1000x500 with 0 Axes>"
            ]
          },
          "metadata": {}
        },
        {
          "output_type": "display_data",
          "data": {
            "text/plain": [
              "<Figure size 1000x500 with 0 Axes>"
            ]
          },
          "metadata": {}
        },
        {
          "output_type": "display_data",
          "data": {
            "text/plain": [
              "<Figure size 800x500 with 0 Axes>"
            ]
          },
          "metadata": {}
        },
        {
          "output_type": "display_data",
          "data": {
            "text/plain": [
              "<Figure size 1000x500 with 0 Axes>"
            ]
          },
          "metadata": {}
        },
        {
          "output_type": "display_data",
          "data": {
            "text/plain": [
              "<Figure size 800x600 with 0 Axes>"
            ]
          },
          "metadata": {}
        },
        {
          "output_type": "display_data",
          "data": {
            "text/plain": [
              "<Figure size 800x600 with 0 Axes>"
            ]
          },
          "metadata": {}
        }
      ]
    },
    {
      "cell_type": "code",
      "source": [
        "print(\"\\n=== Test Results Summary ===\")\n",
        "print(f\"Class Distribution: Left={left_count}, Right={right_count}\")\n",
        "for model_type, results in [(\"PyTorch\", pytorch_results), (\"Lightning\", lightning_results), (\"ONNX\", onnx_results)]:\n",
        "    print(f\"\\n{model_type} Model:\")\n",
        "    print(f\"  Test Loss: {results['loss']:.4f}\")\n",
        "    print(f\"  Accuracy: {results['accuracy']:.4f}\")\n",
        "    print(f\"  Precision: {results['precision']:.4f}\")\n",
        "    print(f\"  Recall: {results['recall']:.4f}\")\n",
        "    print(f\"  F1-Score: {results['f1_score']:.4f}\")\n",
        "    print(f\"  Left Class: {results['correct_left']}/{results['total_left']} (Accuracy: {results['correct_left']/results['total_left']:.4f})\")\n",
        "    print(f\"  Right Class: {results['correct_right']}/{results['total_right']} (Accuracy: {results['correct_right']/results['total_right']:.4f})\")\n",
        "    print(f\"  ROC AUC: {results['roc_auc']:.4f}\")\n",
        "    print(f\"  Confusion Matrix:\\n{results['confusion_matrix']}\")\n",
        "    print(f\"  Predictions saved to: {results['predictions_csv']}\")\n",
        "    print(f\"  Visualizations saved to: {results['visualizations']}\")"
      ],
      "metadata": {
        "colab": {
          "base_uri": "https://localhost:8080/"
        },
        "id": "kTSATFBCMOnQ",
        "outputId": "d3c0cbea-9ebc-4c2f-e458-6703c0686884"
      },
      "execution_count": null,
      "outputs": [
        {
          "output_type": "stream",
          "name": "stdout",
          "text": [
            "\n",
            "=== Test Results Summary ===\n",
            "Class Distribution: Left=1688, Right=1678\n",
            "\n",
            "PyTorch Model:\n",
            "  Test Loss: 0.8122\n",
            "  Accuracy: 0.7077\n",
            "  Precision: 0.7265\n",
            "  Recall: 0.6633\n",
            "  F1-Score: 0.6935\n",
            "  Left Class: 1141/1688 (Accuracy: 0.6759)\n",
            "  Right Class: 1230/1678 (Accuracy: 0.7330)\n",
            "  ROC AUC: 0.7679\n",
            "  Confusion Matrix:\n",
            "[[1141  547]\n",
            " [ 448 1230]]\n",
            "  Predictions saved to: /content/PyTorch_predictions.csv\n",
            "  Visualizations saved to: ['/content/PyTorch_left_scatter.png', '/content/PyTorch_right_scatter.png', '/content/PyTorch_class_accuracy.png', '/content/PyTorch_accuracy_curve.png', '/content/PyTorch_confusion_matrix.png', '/content/PyTorch_roc_curve.png']\n",
            "\n",
            "Lightning Model:\n",
            "  Test Loss: 0.8122\n",
            "  Accuracy: 0.7077\n",
            "  Precision: 0.7265\n",
            "  Recall: 0.6633\n",
            "  F1-Score: 0.6935\n",
            "  Left Class: 1141/1688 (Accuracy: 0.6759)\n",
            "  Right Class: 1230/1678 (Accuracy: 0.7330)\n",
            "  ROC AUC: 0.7679\n",
            "  Confusion Matrix:\n",
            "[[1141  547]\n",
            " [ 448 1230]]\n",
            "  Predictions saved to: /content/Lightning_predictions.csv\n",
            "  Visualizations saved to: ['/content/Lightning_left_scatter.png', '/content/Lightning_right_scatter.png', '/content/Lightning_class_accuracy.png', '/content/Lightning_accuracy_curve.png', '/content/Lightning_confusion_matrix.png', '/content/Lightning_roc_curve.png']\n",
            "\n",
            "ONNX Model:\n",
            "  Test Loss: 0.8122\n",
            "  Accuracy: 0.7077\n",
            "  Precision: 0.7265\n",
            "  Recall: 0.6633\n",
            "  F1-Score: 0.6935\n",
            "  Left Class: 1141/1688 (Accuracy: 0.6759)\n",
            "  Right Class: 1230/1678 (Accuracy: 0.7330)\n",
            "  ROC AUC: 0.7679\n",
            "  Confusion Matrix:\n",
            "[[1141  547]\n",
            " [ 448 1230]]\n",
            "  Predictions saved to: /content/ONNX_predictions.csv\n",
            "  Visualizations saved to: ['/content/ONNX_left_scatter.png', '/content/ONNX_right_scatter.png', '/content/ONNX_class_accuracy.png', '/content/ONNX_accuracy_curve.png', '/content/ONNX_confusion_matrix.png', '/content/ONNX_roc_curve.png']\n"
          ]
        }
      ]
    }
  ]
}